{
 "cells": [
  {
   "cell_type": "markdown",
   "id": "ead80ded",
   "metadata": {},
   "source": [
    "### Tatiana Frolova\n",
    "### Data Analysis Titanic Database\n",
    "#### Questions:\n",
    "\n",
    "* What is the probability that a child who is in third class and is 10 years old or younger survives?\n",
    "* How much did people pay to be on the ship (average)? \n",
    "* What were the lowest and highest fares paid by passenger-class?\n",
    "* Lost vs survived by sex.\n",
    "* Lost vs survived by class.\n",
    "* Calculate the conditional probability that a person survives given their sex and passenger-class.\n"
   ]
  },
  {
   "cell_type": "code",
   "execution_count": 1,
   "id": "091df36a",
   "metadata": {},
   "outputs": [],
   "source": [
    "import pandas as pd\n",
    "import numpy as np\n",
    "import matplotlib.pyplot as plt\n",
    "import seaborn as sns"
   ]
  },
  {
   "cell_type": "code",
   "execution_count": 169,
   "id": "e6dbd99a",
   "metadata": {},
   "outputs": [
    {
     "data": {
      "text/html": [
       "<div>\n",
       "<style scoped>\n",
       "    .dataframe tbody tr th:only-of-type {\n",
       "        vertical-align: middle;\n",
       "    }\n",
       "\n",
       "    .dataframe tbody tr th {\n",
       "        vertical-align: top;\n",
       "    }\n",
       "\n",
       "    .dataframe thead th {\n",
       "        text-align: right;\n",
       "    }\n",
       "</style>\n",
       "<table border=\"1\" class=\"dataframe\">\n",
       "  <thead>\n",
       "    <tr style=\"text-align: right;\">\n",
       "      <th></th>\n",
       "      <th>Survived</th>\n",
       "      <th>Pclass</th>\n",
       "      <th>Name</th>\n",
       "      <th>Sex</th>\n",
       "      <th>Age</th>\n",
       "      <th>Siblings/Spouses Aboard</th>\n",
       "      <th>Parents/Children Aboard</th>\n",
       "      <th>Fare</th>\n",
       "    </tr>\n",
       "  </thead>\n",
       "  <tbody>\n",
       "    <tr>\n",
       "      <th>0</th>\n",
       "      <td>0</td>\n",
       "      <td>3</td>\n",
       "      <td>Mr. Owen Harris Braund</td>\n",
       "      <td>male</td>\n",
       "      <td>22.0</td>\n",
       "      <td>1</td>\n",
       "      <td>0</td>\n",
       "      <td>7.2500</td>\n",
       "    </tr>\n",
       "    <tr>\n",
       "      <th>1</th>\n",
       "      <td>1</td>\n",
       "      <td>1</td>\n",
       "      <td>Mrs. John Bradley (Florence Briggs Thayer) Cum...</td>\n",
       "      <td>female</td>\n",
       "      <td>38.0</td>\n",
       "      <td>1</td>\n",
       "      <td>0</td>\n",
       "      <td>71.2833</td>\n",
       "    </tr>\n",
       "    <tr>\n",
       "      <th>2</th>\n",
       "      <td>1</td>\n",
       "      <td>3</td>\n",
       "      <td>Miss. Laina Heikkinen</td>\n",
       "      <td>female</td>\n",
       "      <td>26.0</td>\n",
       "      <td>0</td>\n",
       "      <td>0</td>\n",
       "      <td>7.9250</td>\n",
       "    </tr>\n",
       "    <tr>\n",
       "      <th>3</th>\n",
       "      <td>1</td>\n",
       "      <td>1</td>\n",
       "      <td>Mrs. Jacques Heath (Lily May Peel) Futrelle</td>\n",
       "      <td>female</td>\n",
       "      <td>35.0</td>\n",
       "      <td>1</td>\n",
       "      <td>0</td>\n",
       "      <td>53.1000</td>\n",
       "    </tr>\n",
       "    <tr>\n",
       "      <th>4</th>\n",
       "      <td>0</td>\n",
       "      <td>3</td>\n",
       "      <td>Mr. William Henry Allen</td>\n",
       "      <td>male</td>\n",
       "      <td>35.0</td>\n",
       "      <td>0</td>\n",
       "      <td>0</td>\n",
       "      <td>8.0500</td>\n",
       "    </tr>\n",
       "    <tr>\n",
       "      <th>...</th>\n",
       "      <td>...</td>\n",
       "      <td>...</td>\n",
       "      <td>...</td>\n",
       "      <td>...</td>\n",
       "      <td>...</td>\n",
       "      <td>...</td>\n",
       "      <td>...</td>\n",
       "      <td>...</td>\n",
       "    </tr>\n",
       "    <tr>\n",
       "      <th>882</th>\n",
       "      <td>0</td>\n",
       "      <td>2</td>\n",
       "      <td>Rev. Juozas Montvila</td>\n",
       "      <td>male</td>\n",
       "      <td>27.0</td>\n",
       "      <td>0</td>\n",
       "      <td>0</td>\n",
       "      <td>13.0000</td>\n",
       "    </tr>\n",
       "    <tr>\n",
       "      <th>883</th>\n",
       "      <td>1</td>\n",
       "      <td>1</td>\n",
       "      <td>Miss. Margaret Edith Graham</td>\n",
       "      <td>female</td>\n",
       "      <td>19.0</td>\n",
       "      <td>0</td>\n",
       "      <td>0</td>\n",
       "      <td>30.0000</td>\n",
       "    </tr>\n",
       "    <tr>\n",
       "      <th>884</th>\n",
       "      <td>0</td>\n",
       "      <td>3</td>\n",
       "      <td>Miss. Catherine Helen Johnston</td>\n",
       "      <td>female</td>\n",
       "      <td>7.0</td>\n",
       "      <td>1</td>\n",
       "      <td>2</td>\n",
       "      <td>23.4500</td>\n",
       "    </tr>\n",
       "    <tr>\n",
       "      <th>885</th>\n",
       "      <td>1</td>\n",
       "      <td>1</td>\n",
       "      <td>Mr. Karl Howell Behr</td>\n",
       "      <td>male</td>\n",
       "      <td>26.0</td>\n",
       "      <td>0</td>\n",
       "      <td>0</td>\n",
       "      <td>30.0000</td>\n",
       "    </tr>\n",
       "    <tr>\n",
       "      <th>886</th>\n",
       "      <td>0</td>\n",
       "      <td>3</td>\n",
       "      <td>Mr. Patrick Dooley</td>\n",
       "      <td>male</td>\n",
       "      <td>32.0</td>\n",
       "      <td>0</td>\n",
       "      <td>0</td>\n",
       "      <td>7.7500</td>\n",
       "    </tr>\n",
       "  </tbody>\n",
       "</table>\n",
       "<p>887 rows × 8 columns</p>\n",
       "</div>"
      ],
      "text/plain": [
       "     Survived  Pclass                                               Name  \\\n",
       "0           0       3                             Mr. Owen Harris Braund   \n",
       "1           1       1  Mrs. John Bradley (Florence Briggs Thayer) Cum...   \n",
       "2           1       3                              Miss. Laina Heikkinen   \n",
       "3           1       1        Mrs. Jacques Heath (Lily May Peel) Futrelle   \n",
       "4           0       3                            Mr. William Henry Allen   \n",
       "..        ...     ...                                                ...   \n",
       "882         0       2                               Rev. Juozas Montvila   \n",
       "883         1       1                        Miss. Margaret Edith Graham   \n",
       "884         0       3                     Miss. Catherine Helen Johnston   \n",
       "885         1       1                               Mr. Karl Howell Behr   \n",
       "886         0       3                                 Mr. Patrick Dooley   \n",
       "\n",
       "        Sex   Age  Siblings/Spouses Aboard  Parents/Children Aboard     Fare  \n",
       "0      male  22.0                        1                        0   7.2500  \n",
       "1    female  38.0                        1                        0  71.2833  \n",
       "2    female  26.0                        0                        0   7.9250  \n",
       "3    female  35.0                        1                        0  53.1000  \n",
       "4      male  35.0                        0                        0   8.0500  \n",
       "..      ...   ...                      ...                      ...      ...  \n",
       "882    male  27.0                        0                        0  13.0000  \n",
       "883  female  19.0                        0                        0  30.0000  \n",
       "884  female   7.0                        1                        2  23.4500  \n",
       "885    male  26.0                        0                        0  30.0000  \n",
       "886    male  32.0                        0                        0   7.7500  \n",
       "\n",
       "[887 rows x 8 columns]"
      ]
     },
     "execution_count": 169,
     "metadata": {},
     "output_type": "execute_result"
    }
   ],
   "source": [
    "tmain = pd.read_csv(\"titanic.csv\")\n",
    "tmain"
   ]
  },
  {
   "cell_type": "markdown",
   "id": "52566b78",
   "metadata": {},
   "source": [
    "### Genaral data"
   ]
  },
  {
   "cell_type": "code",
   "execution_count": 52,
   "id": "a9c0b1cc",
   "metadata": {},
   "outputs": [
    {
     "data": {
      "text/plain": [
       "male      573\n",
       "female    314\n",
       "Name: Sex, dtype: int64"
      ]
     },
     "execution_count": 52,
     "metadata": {},
     "output_type": "execute_result"
    }
   ],
   "source": [
    "tmain.Sex.value_counts()"
   ]
  },
  {
   "cell_type": "code",
   "execution_count": 56,
   "id": "e29263ba",
   "metadata": {},
   "outputs": [
    {
     "data": {
      "image/png": "[encoded data removed]",
      "text/plain": [
       "<Figure size 640x480 with 1 Axes>"
      ]
     },
     "metadata": {},
     "output_type": "display_data"
    }
   ],
   "source": [
    "tmain.Sex.value_counts().plot(kind = \"pie\", labels = [\"Male\", \"Female\"] )\n",
    "plt.title(\"Male vs Female on the Titanic\")\n",
    "plt.show()"
   ]
  },
  {
   "cell_type": "code",
   "execution_count": 47,
   "id": "a11d1237",
   "metadata": {
    "scrolled": false
   },
   "outputs": [
    {
     "data": {
      "text/plain": [
       "0    545\n",
       "1    342\n",
       "Name: Survived, dtype: int64"
      ]
     },
     "execution_count": 47,
     "metadata": {},
     "output_type": "execute_result"
    }
   ],
   "source": [
    "tmain.Survived.value_counts()"
   ]
  },
  {
   "cell_type": "code",
   "execution_count": 55,
   "id": "26c16572",
   "metadata": {},
   "outputs": [
    {
     "data": {
      "image/png": "[encoded data removed]",
      "text/plain": [
       "<Figure size 640x480 with 1 Axes>"
      ]
     },
     "metadata": {},
     "output_type": "display_data"
    }
   ],
   "source": [
    "tmain.Survived.value_counts().plot(kind = \"pie\", colors = [\"black\", \"red\"], labels = [\"Lost\", \"Survived\"] )\n",
    "plt.title(\"Survived vs lost Projections\")\n",
    "plt.show()"
   ]
  },
  {
   "cell_type": "code",
   "execution_count": 52,
   "id": "93e19834",
   "metadata": {},
   "outputs": [
    {
     "data": {
      "text/html": [
       "<div>\n",
       "<style scoped>\n",
       "    .dataframe tbody tr th:only-of-type {\n",
       "        vertical-align: middle;\n",
       "    }\n",
       "\n",
       "    .dataframe tbody tr th {\n",
       "        vertical-align: top;\n",
       "    }\n",
       "\n",
       "    .dataframe thead th {\n",
       "        text-align: right;\n",
       "    }\n",
       "</style>\n",
       "<table border=\"1\" class=\"dataframe\">\n",
       "  <thead>\n",
       "    <tr style=\"text-align: right;\">\n",
       "      <th></th>\n",
       "      <th>Survived</th>\n",
       "      <th>Pclass</th>\n",
       "      <th>Name</th>\n",
       "      <th>Sex</th>\n",
       "      <th>Age</th>\n",
       "      <th>Siblings/Spouses Aboard</th>\n",
       "      <th>Parents/Children Aboard</th>\n",
       "      <th>Fare</th>\n",
       "    </tr>\n",
       "  </thead>\n",
       "  <tbody>\n",
       "    <tr>\n",
       "      <th>0</th>\n",
       "      <td>False</td>\n",
       "      <td>False</td>\n",
       "      <td>False</td>\n",
       "      <td>False</td>\n",
       "      <td>False</td>\n",
       "      <td>False</td>\n",
       "      <td>False</td>\n",
       "      <td>False</td>\n",
       "    </tr>\n",
       "    <tr>\n",
       "      <th>1</th>\n",
       "      <td>False</td>\n",
       "      <td>False</td>\n",
       "      <td>False</td>\n",
       "      <td>False</td>\n",
       "      <td>False</td>\n",
       "      <td>False</td>\n",
       "      <td>False</td>\n",
       "      <td>False</td>\n",
       "    </tr>\n",
       "    <tr>\n",
       "      <th>2</th>\n",
       "      <td>False</td>\n",
       "      <td>False</td>\n",
       "      <td>False</td>\n",
       "      <td>False</td>\n",
       "      <td>False</td>\n",
       "      <td>False</td>\n",
       "      <td>False</td>\n",
       "      <td>False</td>\n",
       "    </tr>\n",
       "    <tr>\n",
       "      <th>3</th>\n",
       "      <td>False</td>\n",
       "      <td>False</td>\n",
       "      <td>False</td>\n",
       "      <td>False</td>\n",
       "      <td>False</td>\n",
       "      <td>False</td>\n",
       "      <td>False</td>\n",
       "      <td>False</td>\n",
       "    </tr>\n",
       "    <tr>\n",
       "      <th>4</th>\n",
       "      <td>False</td>\n",
       "      <td>False</td>\n",
       "      <td>False</td>\n",
       "      <td>False</td>\n",
       "      <td>False</td>\n",
       "      <td>False</td>\n",
       "      <td>False</td>\n",
       "      <td>False</td>\n",
       "    </tr>\n",
       "    <tr>\n",
       "      <th>...</th>\n",
       "      <td>...</td>\n",
       "      <td>...</td>\n",
       "      <td>...</td>\n",
       "      <td>...</td>\n",
       "      <td>...</td>\n",
       "      <td>...</td>\n",
       "      <td>...</td>\n",
       "      <td>...</td>\n",
       "    </tr>\n",
       "    <tr>\n",
       "      <th>882</th>\n",
       "      <td>False</td>\n",
       "      <td>False</td>\n",
       "      <td>False</td>\n",
       "      <td>False</td>\n",
       "      <td>False</td>\n",
       "      <td>False</td>\n",
       "      <td>False</td>\n",
       "      <td>False</td>\n",
       "    </tr>\n",
       "    <tr>\n",
       "      <th>883</th>\n",
       "      <td>False</td>\n",
       "      <td>False</td>\n",
       "      <td>False</td>\n",
       "      <td>False</td>\n",
       "      <td>False</td>\n",
       "      <td>False</td>\n",
       "      <td>False</td>\n",
       "      <td>False</td>\n",
       "    </tr>\n",
       "    <tr>\n",
       "      <th>884</th>\n",
       "      <td>False</td>\n",
       "      <td>False</td>\n",
       "      <td>False</td>\n",
       "      <td>False</td>\n",
       "      <td>False</td>\n",
       "      <td>False</td>\n",
       "      <td>False</td>\n",
       "      <td>False</td>\n",
       "    </tr>\n",
       "    <tr>\n",
       "      <th>885</th>\n",
       "      <td>False</td>\n",
       "      <td>False</td>\n",
       "      <td>False</td>\n",
       "      <td>False</td>\n",
       "      <td>False</td>\n",
       "      <td>False</td>\n",
       "      <td>False</td>\n",
       "      <td>False</td>\n",
       "    </tr>\n",
       "    <tr>\n",
       "      <th>886</th>\n",
       "      <td>False</td>\n",
       "      <td>False</td>\n",
       "      <td>False</td>\n",
       "      <td>False</td>\n",
       "      <td>False</td>\n",
       "      <td>False</td>\n",
       "      <td>False</td>\n",
       "      <td>False</td>\n",
       "    </tr>\n",
       "  </tbody>\n",
       "</table>\n",
       "<p>887 rows × 8 columns</p>\n",
       "</div>"
      ],
      "text/plain": [
       "     Survived  Pclass   Name    Sex    Age  Siblings/Spouses Aboard  \\\n",
       "0       False   False  False  False  False                    False   \n",
       "1       False   False  False  False  False                    False   \n",
       "2       False   False  False  False  False                    False   \n",
       "3       False   False  False  False  False                    False   \n",
       "4       False   False  False  False  False                    False   \n",
       "..        ...     ...    ...    ...    ...                      ...   \n",
       "882     False   False  False  False  False                    False   \n",
       "883     False   False  False  False  False                    False   \n",
       "884     False   False  False  False  False                    False   \n",
       "885     False   False  False  False  False                    False   \n",
       "886     False   False  False  False  False                    False   \n",
       "\n",
       "     Parents/Children Aboard   Fare  \n",
       "0                      False  False  \n",
       "1                      False  False  \n",
       "2                      False  False  \n",
       "3                      False  False  \n",
       "4                      False  False  \n",
       "..                       ...    ...  \n",
       "882                    False  False  \n",
       "883                    False  False  \n",
       "884                    False  False  \n",
       "885                    False  False  \n",
       "886                    False  False  \n",
       "\n",
       "[887 rows x 8 columns]"
      ]
     },
     "execution_count": 52,
     "metadata": {},
     "output_type": "execute_result"
    }
   ],
   "source": [
    "tmain.isnull()"
   ]
  },
  {
   "cell_type": "code",
   "execution_count": 4,
   "id": "a4916df5",
   "metadata": {},
   "outputs": [
    {
     "data": {
      "text/plain": [
       "Survived                   0\n",
       "Pclass                     0\n",
       "Name                       0\n",
       "Sex                        0\n",
       "Age                        0\n",
       "Siblings/Spouses Aboard    0\n",
       "Parents/Children Aboard    0\n",
       "Fare                       0\n",
       "dtype: int64"
      ]
     },
     "execution_count": 4,
     "metadata": {},
     "output_type": "execute_result"
    }
   ],
   "source": [
    "#check for null values example\n",
    "tmain.isnull().sum()"
   ]
  },
  {
   "cell_type": "code",
   "execution_count": 5,
   "id": "13c3d8e6",
   "metadata": {
    "scrolled": true
   },
   "outputs": [
    {
     "data": {
      "text/html": [
       "<div>\n",
       "<style scoped>\n",
       "    .dataframe tbody tr th:only-of-type {\n",
       "        vertical-align: middle;\n",
       "    }\n",
       "\n",
       "    .dataframe tbody tr th {\n",
       "        vertical-align: top;\n",
       "    }\n",
       "\n",
       "    .dataframe thead th {\n",
       "        text-align: right;\n",
       "    }\n",
       "</style>\n",
       "<table border=\"1\" class=\"dataframe\">\n",
       "  <thead>\n",
       "    <tr style=\"text-align: right;\">\n",
       "      <th></th>\n",
       "      <th>Survived</th>\n",
       "      <th>Pclass</th>\n",
       "      <th>Age</th>\n",
       "      <th>Siblings/Spouses Aboard</th>\n",
       "      <th>Parents/Children Aboard</th>\n",
       "      <th>Fare</th>\n",
       "    </tr>\n",
       "  </thead>\n",
       "  <tbody>\n",
       "    <tr>\n",
       "      <th>count</th>\n",
       "      <td>887.000000</td>\n",
       "      <td>887.000000</td>\n",
       "      <td>887.000000</td>\n",
       "      <td>887.000000</td>\n",
       "      <td>887.000000</td>\n",
       "      <td>887.00000</td>\n",
       "    </tr>\n",
       "    <tr>\n",
       "      <th>mean</th>\n",
       "      <td>0.385569</td>\n",
       "      <td>2.305524</td>\n",
       "      <td>29.471443</td>\n",
       "      <td>0.525366</td>\n",
       "      <td>0.383315</td>\n",
       "      <td>32.30542</td>\n",
       "    </tr>\n",
       "    <tr>\n",
       "      <th>std</th>\n",
       "      <td>0.487004</td>\n",
       "      <td>0.836662</td>\n",
       "      <td>14.121908</td>\n",
       "      <td>1.104669</td>\n",
       "      <td>0.807466</td>\n",
       "      <td>49.78204</td>\n",
       "    </tr>\n",
       "    <tr>\n",
       "      <th>min</th>\n",
       "      <td>0.000000</td>\n",
       "      <td>1.000000</td>\n",
       "      <td>0.420000</td>\n",
       "      <td>0.000000</td>\n",
       "      <td>0.000000</td>\n",
       "      <td>0.00000</td>\n",
       "    </tr>\n",
       "    <tr>\n",
       "      <th>25%</th>\n",
       "      <td>0.000000</td>\n",
       "      <td>2.000000</td>\n",
       "      <td>20.250000</td>\n",
       "      <td>0.000000</td>\n",
       "      <td>0.000000</td>\n",
       "      <td>7.92500</td>\n",
       "    </tr>\n",
       "    <tr>\n",
       "      <th>50%</th>\n",
       "      <td>0.000000</td>\n",
       "      <td>3.000000</td>\n",
       "      <td>28.000000</td>\n",
       "      <td>0.000000</td>\n",
       "      <td>0.000000</td>\n",
       "      <td>14.45420</td>\n",
       "    </tr>\n",
       "    <tr>\n",
       "      <th>75%</th>\n",
       "      <td>1.000000</td>\n",
       "      <td>3.000000</td>\n",
       "      <td>38.000000</td>\n",
       "      <td>1.000000</td>\n",
       "      <td>0.000000</td>\n",
       "      <td>31.13750</td>\n",
       "    </tr>\n",
       "    <tr>\n",
       "      <th>max</th>\n",
       "      <td>1.000000</td>\n",
       "      <td>3.000000</td>\n",
       "      <td>80.000000</td>\n",
       "      <td>8.000000</td>\n",
       "      <td>6.000000</td>\n",
       "      <td>512.32920</td>\n",
       "    </tr>\n",
       "  </tbody>\n",
       "</table>\n",
       "</div>"
      ],
      "text/plain": [
       "         Survived      Pclass         Age  Siblings/Spouses Aboard  \\\n",
       "count  887.000000  887.000000  887.000000               887.000000   \n",
       "mean     0.385569    2.305524   29.471443                 0.525366   \n",
       "std      0.487004    0.836662   14.121908                 1.104669   \n",
       "min      0.000000    1.000000    0.420000                 0.000000   \n",
       "25%      0.000000    2.000000   20.250000                 0.000000   \n",
       "50%      0.000000    3.000000   28.000000                 0.000000   \n",
       "75%      1.000000    3.000000   38.000000                 1.000000   \n",
       "max      1.000000    3.000000   80.000000                 8.000000   \n",
       "\n",
       "       Parents/Children Aboard       Fare  \n",
       "count               887.000000  887.00000  \n",
       "mean                  0.383315   32.30542  \n",
       "std                   0.807466   49.78204  \n",
       "min                   0.000000    0.00000  \n",
       "25%                   0.000000    7.92500  \n",
       "50%                   0.000000   14.45420  \n",
       "75%                   0.000000   31.13750  \n",
       "max                   6.000000  512.32920  "
      ]
     },
     "execution_count": 5,
     "metadata": {},
     "output_type": "execute_result"
    }
   ],
   "source": [
    "# check data summary\n",
    "tmain.describe()"
   ]
  },
  {
   "cell_type": "code",
   "execution_count": 7,
   "id": "9d9afeec",
   "metadata": {},
   "outputs": [
    {
     "name": "stdout",
     "output_type": "stream",
     "text": [
      "<class 'pandas.core.frame.DataFrame'>\n",
      "RangeIndex: 887 entries, 0 to 886\n",
      "Data columns (total 8 columns):\n",
      " #   Column                   Non-Null Count  Dtype  \n",
      "---  ------                   --------------  -----  \n",
      " 0   Survived                 887 non-null    int64  \n",
      " 1   Pclass                   887 non-null    int64  \n",
      " 2   Name                     887 non-null    object \n",
      " 3   Sex                      887 non-null    object \n",
      " 4   Age                      887 non-null    float64\n",
      " 5   Siblings/Spouses Aboard  887 non-null    int64  \n",
      " 6   Parents/Children Aboard  887 non-null    int64  \n",
      " 7   Fare                     887 non-null    float64\n",
      "dtypes: float64(2), int64(4), object(2)\n",
      "memory usage: 55.6+ KB\n"
     ]
    }
   ],
   "source": [
    "# check gerenal information about data\n",
    "tmain.info()"
   ]
  },
  {
   "cell_type": "markdown",
   "id": "f3db6393",
   "metadata": {},
   "source": [
    "### Question 1\n",
    "### What is the probability that a child who is in third class and is 10 years old or younger survives?"
   ]
  },
  {
   "cell_type": "code",
   "execution_count": 8,
   "id": "355898da",
   "metadata": {
    "scrolled": true
   },
   "outputs": [
    {
     "data": {
      "text/html": [
       "<div>\n",
       "<style scoped>\n",
       "    .dataframe tbody tr th:only-of-type {\n",
       "        vertical-align: middle;\n",
       "    }\n",
       "\n",
       "    .dataframe tbody tr th {\n",
       "        vertical-align: top;\n",
       "    }\n",
       "\n",
       "    .dataframe thead th {\n",
       "        text-align: right;\n",
       "    }\n",
       "</style>\n",
       "<table border=\"1\" class=\"dataframe\">\n",
       "  <thead>\n",
       "    <tr style=\"text-align: right;\">\n",
       "      <th></th>\n",
       "      <th>Survived</th>\n",
       "      <th>Pclass</th>\n",
       "      <th>Age</th>\n",
       "    </tr>\n",
       "  </thead>\n",
       "  <tbody>\n",
       "    <tr>\n",
       "      <th>0</th>\n",
       "      <td>0</td>\n",
       "      <td>3</td>\n",
       "      <td>22.0</td>\n",
       "    </tr>\n",
       "    <tr>\n",
       "      <th>1</th>\n",
       "      <td>1</td>\n",
       "      <td>1</td>\n",
       "      <td>38.0</td>\n",
       "    </tr>\n",
       "    <tr>\n",
       "      <th>2</th>\n",
       "      <td>1</td>\n",
       "      <td>3</td>\n",
       "      <td>26.0</td>\n",
       "    </tr>\n",
       "    <tr>\n",
       "      <th>3</th>\n",
       "      <td>1</td>\n",
       "      <td>1</td>\n",
       "      <td>35.0</td>\n",
       "    </tr>\n",
       "    <tr>\n",
       "      <th>4</th>\n",
       "      <td>0</td>\n",
       "      <td>3</td>\n",
       "      <td>35.0</td>\n",
       "    </tr>\n",
       "    <tr>\n",
       "      <th>...</th>\n",
       "      <td>...</td>\n",
       "      <td>...</td>\n",
       "      <td>...</td>\n",
       "    </tr>\n",
       "    <tr>\n",
       "      <th>882</th>\n",
       "      <td>0</td>\n",
       "      <td>2</td>\n",
       "      <td>27.0</td>\n",
       "    </tr>\n",
       "    <tr>\n",
       "      <th>883</th>\n",
       "      <td>1</td>\n",
       "      <td>1</td>\n",
       "      <td>19.0</td>\n",
       "    </tr>\n",
       "    <tr>\n",
       "      <th>884</th>\n",
       "      <td>0</td>\n",
       "      <td>3</td>\n",
       "      <td>7.0</td>\n",
       "    </tr>\n",
       "    <tr>\n",
       "      <th>885</th>\n",
       "      <td>1</td>\n",
       "      <td>1</td>\n",
       "      <td>26.0</td>\n",
       "    </tr>\n",
       "    <tr>\n",
       "      <th>886</th>\n",
       "      <td>0</td>\n",
       "      <td>3</td>\n",
       "      <td>32.0</td>\n",
       "    </tr>\n",
       "  </tbody>\n",
       "</table>\n",
       "<p>887 rows × 3 columns</p>\n",
       "</div>"
      ],
      "text/plain": [
       "     Survived  Pclass   Age\n",
       "0           0       3  22.0\n",
       "1           1       1  38.0\n",
       "2           1       3  26.0\n",
       "3           1       1  35.0\n",
       "4           0       3  35.0\n",
       "..        ...     ...   ...\n",
       "882         0       2  27.0\n",
       "883         1       1  19.0\n",
       "884         0       3   7.0\n",
       "885         1       1  26.0\n",
       "886         0       3  32.0\n",
       "\n",
       "[887 rows x 3 columns]"
      ]
     },
     "execution_count": 8,
     "metadata": {},
     "output_type": "execute_result"
    }
   ],
   "source": [
    "child = tmain[[\"Survived\", \"Pclass\", \"Age\"]]\n",
    "child"
   ]
  },
  {
   "cell_type": "code",
   "execution_count": 9,
   "id": "ade8164e",
   "metadata": {},
   "outputs": [],
   "source": [
    "#Selecting rows\n",
    "child = child.loc[child[\"Age\"] <= 10]\n",
    "child = child.loc[child[\"Pclass\"] == 3]"
   ]
  },
  {
   "cell_type": "code",
   "execution_count": 10,
   "id": "01b2f433",
   "metadata": {},
   "outputs": [],
   "source": [
    "child_survived = child.loc[child[\"Survived\"] == 1]\n",
    "child_sink = child.loc[child[\"Survived\"] == 0]"
   ]
  },
  {
   "cell_type": "code",
   "execution_count": 11,
   "id": "653cc4a0",
   "metadata": {
    "scrolled": true
   },
   "outputs": [
    {
     "data": {
      "text/html": [
       "<div>\n",
       "<style scoped>\n",
       "    .dataframe tbody tr th:only-of-type {\n",
       "        vertical-align: middle;\n",
       "    }\n",
       "\n",
       "    .dataframe tbody tr th {\n",
       "        vertical-align: top;\n",
       "    }\n",
       "\n",
       "    .dataframe thead th {\n",
       "        text-align: right;\n",
       "    }\n",
       "</style>\n",
       "<table border=\"1\" class=\"dataframe\">\n",
       "  <thead>\n",
       "    <tr style=\"text-align: right;\">\n",
       "      <th></th>\n",
       "      <th>Survived</th>\n",
       "      <th>Pclass</th>\n",
       "      <th>Age</th>\n",
       "    </tr>\n",
       "  </thead>\n",
       "  <tbody>\n",
       "    <tr>\n",
       "      <th>10</th>\n",
       "      <td>1</td>\n",
       "      <td>3</td>\n",
       "      <td>4.0</td>\n",
       "    </tr>\n",
       "    <tr>\n",
       "      <th>64</th>\n",
       "      <td>1</td>\n",
       "      <td>3</td>\n",
       "      <td>7.0</td>\n",
       "    </tr>\n",
       "    <tr>\n",
       "      <th>127</th>\n",
       "      <td>1</td>\n",
       "      <td>3</td>\n",
       "      <td>2.0</td>\n",
       "    </tr>\n",
       "    <tr>\n",
       "      <th>164</th>\n",
       "      <td>1</td>\n",
       "      <td>3</td>\n",
       "      <td>9.0</td>\n",
       "    </tr>\n",
       "    <tr>\n",
       "      <th>171</th>\n",
       "      <td>1</td>\n",
       "      <td>3</td>\n",
       "      <td>1.0</td>\n",
       "    </tr>\n",
       "    <tr>\n",
       "      <th>183</th>\n",
       "      <td>1</td>\n",
       "      <td>3</td>\n",
       "      <td>4.0</td>\n",
       "    </tr>\n",
       "    <tr>\n",
       "      <th>232</th>\n",
       "      <td>1</td>\n",
       "      <td>3</td>\n",
       "      <td>5.0</td>\n",
       "    </tr>\n",
       "    <tr>\n",
       "      <th>259</th>\n",
       "      <td>1</td>\n",
       "      <td>3</td>\n",
       "      <td>3.0</td>\n",
       "    </tr>\n",
       "    <tr>\n",
       "      <th>346</th>\n",
       "      <td>1</td>\n",
       "      <td>3</td>\n",
       "      <td>3.0</td>\n",
       "    </tr>\n",
       "    <tr>\n",
       "      <th>379</th>\n",
       "      <td>1</td>\n",
       "      <td>3</td>\n",
       "      <td>1.0</td>\n",
       "    </tr>\n",
       "  </tbody>\n",
       "</table>\n",
       "</div>"
      ],
      "text/plain": [
       "     Survived  Pclass  Age\n",
       "10          1       3  4.0\n",
       "64          1       3  7.0\n",
       "127         1       3  2.0\n",
       "164         1       3  9.0\n",
       "171         1       3  1.0\n",
       "183         1       3  4.0\n",
       "232         1       3  5.0\n",
       "259         1       3  3.0\n",
       "346         1       3  3.0\n",
       "379         1       3  1.0"
      ]
     },
     "execution_count": 11,
     "metadata": {},
     "output_type": "execute_result"
    }
   ],
   "source": [
    "child_survived.head(10)"
   ]
  },
  {
   "cell_type": "code",
   "execution_count": 30,
   "id": "a3806b44",
   "metadata": {},
   "outputs": [
    {
     "data": {
      "text/plain": [
       "Text(0, 0.5, 'Values')"
      ]
     },
     "execution_count": 30,
     "metadata": {},
     "output_type": "execute_result"
    },
    {
     "data": {
      "image/png": "[encoded data removed]",
      "text/plain": [
       "<Figure size 640x480 with 1 Axes>"
      ]
     },
     "metadata": {},
     "output_type": "display_data"
    }
   ],
   "source": [
    "child_survived.plot(kind = \"bar\",  title = \"Children are survived of age 10 and under\")\n",
    "plt.xlabel(\"Index\")\n",
    "plt.ylabel(\"Values\")"
   ]
  },
  {
   "cell_type": "code",
   "execution_count": 12,
   "id": "6329addb",
   "metadata": {},
   "outputs": [
    {
     "data": {
      "text/html": [
       "<div>\n",
       "<style scoped>\n",
       "    .dataframe tbody tr th:only-of-type {\n",
       "        vertical-align: middle;\n",
       "    }\n",
       "\n",
       "    .dataframe tbody tr th {\n",
       "        vertical-align: top;\n",
       "    }\n",
       "\n",
       "    .dataframe thead th {\n",
       "        text-align: right;\n",
       "    }\n",
       "</style>\n",
       "<table border=\"1\" class=\"dataframe\">\n",
       "  <thead>\n",
       "    <tr style=\"text-align: right;\">\n",
       "      <th></th>\n",
       "      <th>Survived</th>\n",
       "      <th>Pclass</th>\n",
       "      <th>Age</th>\n",
       "    </tr>\n",
       "  </thead>\n",
       "  <tbody>\n",
       "    <tr>\n",
       "      <th>7</th>\n",
       "      <td>0</td>\n",
       "      <td>3</td>\n",
       "      <td>2.0</td>\n",
       "    </tr>\n",
       "    <tr>\n",
       "      <th>16</th>\n",
       "      <td>0</td>\n",
       "      <td>3</td>\n",
       "      <td>2.0</td>\n",
       "    </tr>\n",
       "    <tr>\n",
       "      <th>24</th>\n",
       "      <td>0</td>\n",
       "      <td>3</td>\n",
       "      <td>8.0</td>\n",
       "    </tr>\n",
       "    <tr>\n",
       "      <th>49</th>\n",
       "      <td>0</td>\n",
       "      <td>3</td>\n",
       "      <td>7.0</td>\n",
       "    </tr>\n",
       "    <tr>\n",
       "      <th>62</th>\n",
       "      <td>0</td>\n",
       "      <td>3</td>\n",
       "      <td>4.0</td>\n",
       "    </tr>\n",
       "    <tr>\n",
       "      <th>118</th>\n",
       "      <td>0</td>\n",
       "      <td>3</td>\n",
       "      <td>2.0</td>\n",
       "    </tr>\n",
       "    <tr>\n",
       "      <th>146</th>\n",
       "      <td>0</td>\n",
       "      <td>3</td>\n",
       "      <td>9.0</td>\n",
       "    </tr>\n",
       "    <tr>\n",
       "      <th>158</th>\n",
       "      <td>0</td>\n",
       "      <td>3</td>\n",
       "      <td>5.0</td>\n",
       "    </tr>\n",
       "    <tr>\n",
       "      <th>163</th>\n",
       "      <td>0</td>\n",
       "      <td>3</td>\n",
       "      <td>1.0</td>\n",
       "    </tr>\n",
       "    <tr>\n",
       "      <th>170</th>\n",
       "      <td>0</td>\n",
       "      <td>3</td>\n",
       "      <td>4.0</td>\n",
       "    </tr>\n",
       "  </tbody>\n",
       "</table>\n",
       "</div>"
      ],
      "text/plain": [
       "     Survived  Pclass  Age\n",
       "7           0       3  2.0\n",
       "16          0       3  2.0\n",
       "24          0       3  8.0\n",
       "49          0       3  7.0\n",
       "62          0       3  4.0\n",
       "118         0       3  2.0\n",
       "146         0       3  9.0\n",
       "158         0       3  5.0\n",
       "163         0       3  1.0\n",
       "170         0       3  4.0"
      ]
     },
     "execution_count": 12,
     "metadata": {},
     "output_type": "execute_result"
    }
   ],
   "source": [
    "child_sink.head(10)"
   ]
  },
  {
   "cell_type": "code",
   "execution_count": 31,
   "id": "9d7d75bc",
   "metadata": {},
   "outputs": [
    {
     "data": {
      "text/plain": [
       "Text(0, 0.5, 'Values')"
      ]
     },
     "execution_count": 31,
     "metadata": {},
     "output_type": "execute_result"
    },
    {
     "data": {
      "image/png": "[encoded data removed]",
      "text/plain": [
       "<Figure size 640x480 with 1 Axes>"
      ]
     },
     "metadata": {},
     "output_type": "display_data"
    }
   ],
   "source": [
    "child_sink.plot(kind = \"bar\", title = \"children are deceased of age 10 and under\")\n",
    "plt.xlabel(\"Index\")\n",
    "plt.ylabel(\"Values\")"
   ]
  },
  {
   "cell_type": "code",
   "execution_count": 13,
   "id": "4517e892",
   "metadata": {},
   "outputs": [
    {
     "data": {
      "text/plain": [
       "Survived    53\n",
       "Pclass      53\n",
       "Age         53\n",
       "dtype: int64"
      ]
     },
     "execution_count": 13,
     "metadata": {},
     "output_type": "execute_result"
    }
   ],
   "source": [
    "total_children = child.count()\n",
    "total_children"
   ]
  },
  {
   "cell_type": "code",
   "execution_count": 14,
   "id": "fd52d587",
   "metadata": {},
   "outputs": [
    {
     "data": {
      "text/plain": [
       "Survived    22\n",
       "Pclass      22\n",
       "Age         22\n",
       "dtype: int64"
      ]
     },
     "execution_count": 14,
     "metadata": {},
     "output_type": "execute_result"
    }
   ],
   "source": [
    "chidren_survived = child_survived.count() \n",
    "chidren_survived"
   ]
  },
  {
   "cell_type": "code",
   "execution_count": 15,
   "id": "8567e862",
   "metadata": {},
   "outputs": [
    {
     "data": {
      "text/plain": [
       "Survived    41.51\n",
       "Pclass      41.51\n",
       "Age         41.51\n",
       "dtype: float64"
      ]
     },
     "execution_count": 15,
     "metadata": {},
     "output_type": "execute_result"
    }
   ],
   "source": [
    "#probability = (survived/total children) * 100\n",
    "probab_survived = round((chidren_survived / total_children) * 100, 2)\n",
    "probab_survived"
   ]
  },
  {
   "cell_type": "markdown",
   "id": "fbb1c365",
   "metadata": {},
   "source": [
    "### The probability that a child who is in third class and is 10 years old or younger survives aproximatly 41.51 % based on data"
   ]
  },
  {
   "cell_type": "markdown",
   "id": "dd8497da",
   "metadata": {},
   "source": [
    "### End question 1"
   ]
  },
  {
   "cell_type": "markdown",
   "id": "ee8c3a90",
   "metadata": {},
   "source": [
    "### Question 2\n",
    "### How much did people pay to be on the ship (average)?"
   ]
  },
  {
   "cell_type": "code",
   "execution_count": 117,
   "id": "7f755d84",
   "metadata": {},
   "outputs": [
    {
     "data": {
      "text/plain": [
       "Fare    32.30542\n",
       "dtype: float64"
      ]
     },
     "execution_count": 117,
     "metadata": {},
     "output_type": "execute_result"
    }
   ],
   "source": [
    "pay = tmain[[\"Fare\"]].mean()\n",
    "pay"
   ]
  },
  {
   "cell_type": "code",
   "execution_count": 128,
   "id": "fcfdfd60",
   "metadata": {},
   "outputs": [
    {
     "data": {
      "text/plain": [
       "Text(0.5, 1.0, 'Mean Fare by class Projections')"
      ]
     },
     "execution_count": 128,
     "metadata": {},
     "output_type": "execute_result"
    },
    {
     "data": {
      "image/png": "[encoded data removed]",
      "text/plain": [
       "<Figure size 1000x1000 with 1 Axes>"
      ]
     },
     "metadata": {},
     "output_type": "display_data"
    }
   ],
   "source": [
    "payplot = tmain.groupby(\"Pclass\")[[\"Fare\"]].mean()\n",
    "payplot.plot.bar(color = \"green\", width = 0.4, align = \"center\")\n",
    "plt.xlabel(\"Class\")\n",
    "plt.ylabel(\"Values GBP\")\n",
    "plt.title(\"Mean Fare by class Projections\")"
   ]
  },
  {
   "cell_type": "markdown",
   "id": "87082b73",
   "metadata": {},
   "source": [
    "### People paid to be on the ship on the average 32 GBP based on data based on data"
   ]
  },
  {
   "cell_type": "markdown",
   "id": "edc21a95",
   "metadata": {},
   "source": [
    "### End question 2"
   ]
  },
  {
   "cell_type": "markdown",
   "id": "a06695b9",
   "metadata": {},
   "source": [
    "### Question 3\n",
    "### What were the lowest and highest fares paid by passenger-class? "
   ]
  },
  {
   "cell_type": "code",
   "execution_count": 170,
   "id": "e7c4299c",
   "metadata": {},
   "outputs": [],
   "source": [
    "rateFair = tmain[[\"Pclass\", \"Fare\"]]"
   ]
  },
  {
   "cell_type": "code",
   "execution_count": 144,
   "id": "fb60500b",
   "metadata": {
    "scrolled": true
   },
   "outputs": [
    {
     "data": {
      "text/html": [
       "<div>\n",
       "<style scoped>\n",
       "    .dataframe tbody tr th:only-of-type {\n",
       "        vertical-align: middle;\n",
       "    }\n",
       "\n",
       "    .dataframe tbody tr th {\n",
       "        vertical-align: top;\n",
       "    }\n",
       "\n",
       "    .dataframe thead th {\n",
       "        text-align: right;\n",
       "    }\n",
       "</style>\n",
       "<table border=\"1\" class=\"dataframe\">\n",
       "  <thead>\n",
       "    <tr style=\"text-align: right;\">\n",
       "      <th></th>\n",
       "      <th>Pclass</th>\n",
       "      <th>Fare</th>\n",
       "    </tr>\n",
       "  </thead>\n",
       "  <tbody>\n",
       "    <tr>\n",
       "      <th>0</th>\n",
       "      <td>3</td>\n",
       "      <td>7.2500</td>\n",
       "    </tr>\n",
       "    <tr>\n",
       "      <th>1</th>\n",
       "      <td>1</td>\n",
       "      <td>71.2833</td>\n",
       "    </tr>\n",
       "    <tr>\n",
       "      <th>2</th>\n",
       "      <td>3</td>\n",
       "      <td>7.9250</td>\n",
       "    </tr>\n",
       "    <tr>\n",
       "      <th>3</th>\n",
       "      <td>1</td>\n",
       "      <td>53.1000</td>\n",
       "    </tr>\n",
       "    <tr>\n",
       "      <th>4</th>\n",
       "      <td>3</td>\n",
       "      <td>8.0500</td>\n",
       "    </tr>\n",
       "    <tr>\n",
       "      <th>...</th>\n",
       "      <td>...</td>\n",
       "      <td>...</td>\n",
       "    </tr>\n",
       "    <tr>\n",
       "      <th>882</th>\n",
       "      <td>2</td>\n",
       "      <td>13.0000</td>\n",
       "    </tr>\n",
       "    <tr>\n",
       "      <th>883</th>\n",
       "      <td>1</td>\n",
       "      <td>30.0000</td>\n",
       "    </tr>\n",
       "    <tr>\n",
       "      <th>884</th>\n",
       "      <td>3</td>\n",
       "      <td>23.4500</td>\n",
       "    </tr>\n",
       "    <tr>\n",
       "      <th>885</th>\n",
       "      <td>1</td>\n",
       "      <td>30.0000</td>\n",
       "    </tr>\n",
       "    <tr>\n",
       "      <th>886</th>\n",
       "      <td>3</td>\n",
       "      <td>7.7500</td>\n",
       "    </tr>\n",
       "  </tbody>\n",
       "</table>\n",
       "<p>887 rows × 2 columns</p>\n",
       "</div>"
      ],
      "text/plain": [
       "     Pclass     Fare\n",
       "0         3   7.2500\n",
       "1         1  71.2833\n",
       "2         3   7.9250\n",
       "3         1  53.1000\n",
       "4         3   8.0500\n",
       "..      ...      ...\n",
       "882       2  13.0000\n",
       "883       1  30.0000\n",
       "884       3  23.4500\n",
       "885       1  30.0000\n",
       "886       3   7.7500\n",
       "\n",
       "[887 rows x 2 columns]"
      ]
     },
     "execution_count": 144,
     "metadata": {},
     "output_type": "execute_result"
    }
   ],
   "source": [
    "rateFair"
   ]
  },
  {
   "cell_type": "code",
   "execution_count": 163,
   "id": "c9f7d5bb",
   "metadata": {},
   "outputs": [],
   "source": [
    "dfrf = rateFair.groupby(\"Pclass\")"
   ]
  },
  {
   "cell_type": "code",
   "execution_count": 137,
   "id": "88bdc4cd",
   "metadata": {
    "scrolled": true
   },
   "outputs": [
    {
     "data": {
      "text/html": [
       "<div>\n",
       "<style scoped>\n",
       "    .dataframe tbody tr th:only-of-type {\n",
       "        vertical-align: middle;\n",
       "    }\n",
       "\n",
       "    .dataframe tbody tr th {\n",
       "        vertical-align: top;\n",
       "    }\n",
       "\n",
       "    .dataframe thead tr th {\n",
       "        text-align: left;\n",
       "    }\n",
       "\n",
       "    .dataframe thead tr:last-of-type th {\n",
       "        text-align: right;\n",
       "    }\n",
       "</style>\n",
       "<table border=\"1\" class=\"dataframe\">\n",
       "  <thead>\n",
       "    <tr>\n",
       "      <th></th>\n",
       "      <th colspan=\"8\" halign=\"left\">Fare</th>\n",
       "    </tr>\n",
       "    <tr>\n",
       "      <th></th>\n",
       "      <th>count</th>\n",
       "      <th>mean</th>\n",
       "      <th>std</th>\n",
       "      <th>min</th>\n",
       "      <th>25%</th>\n",
       "      <th>50%</th>\n",
       "      <th>75%</th>\n",
       "      <th>max</th>\n",
       "    </tr>\n",
       "    <tr>\n",
       "      <th>Pclass</th>\n",
       "      <th></th>\n",
       "      <th></th>\n",
       "      <th></th>\n",
       "      <th></th>\n",
       "      <th></th>\n",
       "      <th></th>\n",
       "      <th></th>\n",
       "      <th></th>\n",
       "    </tr>\n",
       "  </thead>\n",
       "  <tbody>\n",
       "    <tr>\n",
       "      <th>1</th>\n",
       "      <td>216.0</td>\n",
       "      <td>84.154687</td>\n",
       "      <td>78.380373</td>\n",
       "      <td>0.0</td>\n",
       "      <td>30.92395</td>\n",
       "      <td>60.2875</td>\n",
       "      <td>93.5</td>\n",
       "      <td>512.3292</td>\n",
       "    </tr>\n",
       "    <tr>\n",
       "      <th>2</th>\n",
       "      <td>184.0</td>\n",
       "      <td>20.662183</td>\n",
       "      <td>13.417399</td>\n",
       "      <td>0.0</td>\n",
       "      <td>13.00000</td>\n",
       "      <td>14.2500</td>\n",
       "      <td>26.0</td>\n",
       "      <td>73.5000</td>\n",
       "    </tr>\n",
       "    <tr>\n",
       "      <th>3</th>\n",
       "      <td>487.0</td>\n",
       "      <td>13.707707</td>\n",
       "      <td>11.817309</td>\n",
       "      <td>0.0</td>\n",
       "      <td>7.75000</td>\n",
       "      <td>8.0500</td>\n",
       "      <td>15.5</td>\n",
       "      <td>69.5500</td>\n",
       "    </tr>\n",
       "  </tbody>\n",
       "</table>\n",
       "</div>"
      ],
      "text/plain": [
       "         Fare                                                              \n",
       "        count       mean        std  min       25%      50%   75%       max\n",
       "Pclass                                                                     \n",
       "1       216.0  84.154687  78.380373  0.0  30.92395  60.2875  93.5  512.3292\n",
       "2       184.0  20.662183  13.417399  0.0  13.00000  14.2500  26.0   73.5000\n",
       "3       487.0  13.707707  11.817309  0.0   7.75000   8.0500  15.5   69.5500"
      ]
     },
     "execution_count": 137,
     "metadata": {},
     "output_type": "execute_result"
    }
   ],
   "source": [
    "dfrf.describe()"
   ]
  },
  {
   "cell_type": "markdown",
   "id": "a89b52b0",
   "metadata": {},
   "source": [
    "### Mean average fares(in British Pounds GBP) based on data\n",
    "#### Fares Summary\n",
    "#### Average Mean paid by class:\n",
    "    First class 84 GBP\n",
    "    Second class 20 GBP\n",
    "    Third class 13 GBP\n",
    "#### Highest fare paind was:\n",
    "    First class 512 GBP\n",
    "    Second class 73 GBP\n",
    "    Third class 69 GBP\n",
    "### Lowest fare paid was:\n",
    "    First class 0 GBP\n",
    "    Second class 0 GBP\n",
    "    Third class 0 GBP\n"
   ]
  },
  {
   "cell_type": "markdown",
   "id": "a1662ccd",
   "metadata": {},
   "source": [
    "### End Question 3"
   ]
  },
  {
   "cell_type": "markdown",
   "id": "227e788c",
   "metadata": {},
   "source": [
    "### Question4. Lost vs survived by sex.\n",
    "### In other words: How many people get lost and how many people get survived if they are male or female? \n",
    "### What is probability survival and deceaseval rate (%) for Male and Female on the Titanic?"
   ]
  },
  {
   "cell_type": "markdown",
   "id": "135f9ae0",
   "metadata": {},
   "source": [
    "#### Code for calculating Probability(in %) and Count(in people) Lost vs Survived for Male"
   ]
  },
  {
   "cell_type": "code",
   "execution_count": 3,
   "id": "e714cf77",
   "metadata": {},
   "outputs": [],
   "source": [
    "# New data frame\n",
    "data = tmain[[\"Survived\", \"Sex\"]]"
   ]
  },
  {
   "cell_type": "code",
   "execution_count": 4,
   "id": "acd432a9",
   "metadata": {},
   "outputs": [],
   "source": [
    "#Selecting rows for male\n",
    "data = data.loc[data[\"Sex\"] == \"male\"]"
   ]
  },
  {
   "cell_type": "code",
   "execution_count": 5,
   "id": "2c123f83",
   "metadata": {},
   "outputs": [],
   "source": [
    "# Selecting row for survival vs lost\n",
    "dataM_survived = data.loc[data[\"Survived\"] == 1]\n",
    "dataM_sink = data.loc[data[\"Survived\"] == 0]"
   ]
  },
  {
   "cell_type": "code",
   "execution_count": 6,
   "id": "c84eafe7",
   "metadata": {},
   "outputs": [
    {
     "data": {
      "text/plain": [
       "Survived    573\n",
       "Sex         573\n",
       "dtype: int64"
      ]
     },
     "execution_count": 6,
     "metadata": {},
     "output_type": "execute_result"
    }
   ],
   "source": [
    "# Count total Male\n",
    "total_male = data.count()\n",
    "total_male"
   ]
  },
  {
   "cell_type": "code",
   "execution_count": 7,
   "id": "8d2074b5",
   "metadata": {},
   "outputs": [
    {
     "data": {
      "text/plain": [
       "Survived    109\n",
       "Sex         109\n",
       "dtype: int64"
      ]
     },
     "execution_count": 7,
     "metadata": {},
     "output_type": "execute_result"
    }
   ],
   "source": [
    "# Count total male survived\n",
    "dataM_survived = dataM_survived.count() \n",
    "dataM_survived"
   ]
  },
  {
   "cell_type": "code",
   "execution_count": 8,
   "id": "1325823e",
   "metadata": {},
   "outputs": [
    {
     "data": {
      "text/plain": [
       "Survived    464\n",
       "Sex         464\n",
       "dtype: int64"
      ]
     },
     "execution_count": 8,
     "metadata": {},
     "output_type": "execute_result"
    }
   ],
   "source": [
    "# Count total male who get lost\n",
    "dataM_sink = dataM_sink.count() \n",
    "dataM_sink"
   ]
  },
  {
   "cell_type": "code",
   "execution_count": 9,
   "id": "0df24a92",
   "metadata": {},
   "outputs": [
    {
     "data": {
      "text/plain": [
       "Survived    19.02\n",
       "Sex         19.02\n",
       "dtype: float64"
      ]
     },
     "execution_count": 9,
     "metadata": {},
     "output_type": "execute_result"
    }
   ],
   "source": [
    "# Calculation probability of Male who survived\n",
    "probab_survived_male = round((dataM_survived / total_male) * 100, 2)\n",
    "probab_survived_male"
   ]
  },
  {
   "cell_type": "code",
   "execution_count": 10,
   "id": "d9652af4",
   "metadata": {},
   "outputs": [
    {
     "data": {
      "text/plain": [
       "Survived    80.98\n",
       "Sex         80.98\n",
       "dtype: float64"
      ]
     },
     "execution_count": 10,
     "metadata": {},
     "output_type": "execute_result"
    }
   ],
   "source": [
    "# Calculation Male who get lost\n",
    "probab_sink_male = round((dataM_sink/ total_male) * 100, 2)\n",
    "probab_sink_male"
   ]
  },
  {
   "cell_type": "markdown",
   "id": "368fdaa4",
   "metadata": {},
   "source": [
    "### Analysis & Interpretetion\n",
    "#### Results of calculation above show there is evindents that:\n",
    "* Out of total 573 Male 109 people got survived and 464 people got lost.\n",
    "* Probaility survived male rate is 19.02% and deceased male rate is 80.98%."
   ]
  },
  {
   "cell_type": "markdown",
   "id": "fa7e2c68",
   "metadata": {},
   "source": [
    "#### Code for calculating Probability(%) and Count (in people) Lost vs Survived for female"
   ]
  },
  {
   "cell_type": "code",
   "execution_count": 74,
   "id": "8ef1d514",
   "metadata": {},
   "outputs": [],
   "source": [
    "#Selecting rows for female\n",
    "data = data.loc[data[\"Sex\"] == \"female\"]"
   ]
  },
  {
   "cell_type": "code",
   "execution_count": 75,
   "id": "03ceef87",
   "metadata": {},
   "outputs": [],
   "source": [
    "#Selecting row for survival vs lost\n",
    "dataF_survived = data.loc[data[\"Survived\"] == 1]\n",
    "dataF_sink = data.loc[data[\"Survived\"] == 0]"
   ]
  },
  {
   "cell_type": "code",
   "execution_count": 76,
   "id": "72a19035",
   "metadata": {},
   "outputs": [
    {
     "data": {
      "text/plain": [
       "Survived    314\n",
       "Sex         314\n",
       "dtype: int64"
      ]
     },
     "execution_count": 76,
     "metadata": {},
     "output_type": "execute_result"
    }
   ],
   "source": [
    "# Count total female on the boat\n",
    "total_female = data.count()\n",
    "total_female"
   ]
  },
  {
   "cell_type": "code",
   "execution_count": 77,
   "id": "3b703c25",
   "metadata": {},
   "outputs": [
    {
     "data": {
      "text/plain": [
       "Survived    233\n",
       "Sex         233\n",
       "dtype: int64"
      ]
     },
     "execution_count": 77,
     "metadata": {},
     "output_type": "execute_result"
    }
   ],
   "source": [
    "# Count total female who survived\n",
    "dataF_survived = dataF_survived.count() \n",
    "dataF_survived"
   ]
  },
  {
   "cell_type": "code",
   "execution_count": 78,
   "id": "5f5f4122",
   "metadata": {},
   "outputs": [
    {
     "data": {
      "text/plain": [
       "Survived    81\n",
       "Sex         81\n",
       "dtype: int64"
      ]
     },
     "execution_count": 78,
     "metadata": {},
     "output_type": "execute_result"
    }
   ],
   "source": [
    "# Count female who get lost\n",
    "dataF_sink = dataF_sink.count() \n",
    "dataF_sink"
   ]
  },
  {
   "cell_type": "code",
   "execution_count": 79,
   "id": "1d4538bf",
   "metadata": {},
   "outputs": [
    {
     "data": {
      "text/plain": [
       "Survived    74.2\n",
       "Sex         74.2\n",
       "dtype: float64"
      ]
     },
     "execution_count": 79,
     "metadata": {},
     "output_type": "execute_result"
    }
   ],
   "source": [
    "#Calculation probability for female who survived\n",
    "probab_survived_female = round((dataF_survived / total_female) * 100, 2)\n",
    "probab_survived_female"
   ]
  },
  {
   "cell_type": "code",
   "execution_count": 81,
   "id": "283757a1",
   "metadata": {},
   "outputs": [
    {
     "data": {
      "text/plain": [
       "Survived    25.8\n",
       "Sex         25.8\n",
       "dtype: float64"
      ]
     },
     "execution_count": 81,
     "metadata": {},
     "output_type": "execute_result"
    }
   ],
   "source": [
    "# Calculation probability for female who get lost\n",
    "probab_sink_female = round((dataF_sink/total_female) * 100, 2)\n",
    "probab_sink_female"
   ]
  },
  {
   "cell_type": "markdown",
   "id": "5be59743",
   "metadata": {},
   "source": [
    "### Analysis & Interpretetion\n",
    "#### Results of calculation above show there is evindents that:\n",
    "* Out of total 314 Female, 233 people got survived and 81 people got lost.\n",
    "* Probaility survived Female rate is 74.2% and deceased Female rate is 25.8%."
   ]
  },
  {
   "cell_type": "code",
   "execution_count": 19,
   "id": "3761d738",
   "metadata": {},
   "outputs": [
    {
     "data": {
      "image/png": "[encoded data removed]",
      "text/plain": [
       "<Figure size 640x480 with 1 Axes>"
      ]
     },
     "metadata": {},
     "output_type": "display_data"
    }
   ],
   "source": [
    "survived_by_sex = tmain.groupby(\"Sex\")[\"Survived\"].value_counts().unstack()\n",
    "survived_by_sex.plot(kind= \"bar\", title = \"Lost VS Survived by Sex\", color = [\"Black\", \"Red\"])\n",
    "plt.legend([\"Deceased\", \"Survived\"])\n",
    "plt.show()\n"
   ]
  },
  {
   "cell_type": "markdown",
   "id": "45a7f175",
   "metadata": {},
   "source": [
    "### Summary & Conclusion\n",
    "Based on the statistical analysis and observation reserch Lost VS Survived by Sex:\n",
    "There is evidents that probability survived Female rate is 74.2% and deceased Female rate is 25.8% compared to survived male rate is 19.02% and deceased male rate is 80.98%;\n",
    "109 people who are male got survived and 464 people got lost compared to 233 female got survived and 81 people got lost.\n",
    "\n",
    "Therefore we concludes that there is significant evindence that Female survival rate is significantly higher compare to Male, which makes sense because during the Titanic tragedy children and women were in saving priority."
   ]
  },
  {
   "cell_type": "markdown",
   "id": "f4233d3d",
   "metadata": {},
   "source": [
    "### End question 4"
   ]
  },
  {
   "cell_type": "markdown",
   "id": "c3acaf3b",
   "metadata": {},
   "source": [
    "### Question 5. Lost vs survived by class.\n",
    "### In other words:\n",
    "### How many people got lost and how many people got survived if they were in 1st class, 2nd class, or 3rd class\n",
    "### What is probability survival rate for people of 1st class, 2nd class, or 3rd class on the Titanic?"
   ]
  },
  {
   "cell_type": "markdown",
   "id": "b734ed4f",
   "metadata": {},
   "source": [
    "#### Code for calculating count of how many people were on the boat, how many got lost and how many got survived in 1st class, 2nd class, and 3rd class"
   ]
  },
  {
   "cell_type": "code",
   "execution_count": 61,
   "id": "7c6f3221",
   "metadata": {
    "scrolled": true
   },
   "outputs": [
    {
     "data": {
      "text/html": [
       "<div>\n",
       "<style scoped>\n",
       "    .dataframe tbody tr th:only-of-type {\n",
       "        vertical-align: middle;\n",
       "    }\n",
       "\n",
       "    .dataframe tbody tr th {\n",
       "        vertical-align: top;\n",
       "    }\n",
       "\n",
       "    .dataframe thead th {\n",
       "        text-align: right;\n",
       "    }\n",
       "</style>\n",
       "<table border=\"1\" class=\"dataframe\">\n",
       "  <thead>\n",
       "    <tr style=\"text-align: right;\">\n",
       "      <th></th>\n",
       "      <th>Survived</th>\n",
       "      <th>Pclass</th>\n",
       "    </tr>\n",
       "  </thead>\n",
       "  <tbody>\n",
       "    <tr>\n",
       "      <th>0</th>\n",
       "      <td>0</td>\n",
       "      <td>3</td>\n",
       "    </tr>\n",
       "    <tr>\n",
       "      <th>1</th>\n",
       "      <td>1</td>\n",
       "      <td>1</td>\n",
       "    </tr>\n",
       "    <tr>\n",
       "      <th>2</th>\n",
       "      <td>1</td>\n",
       "      <td>3</td>\n",
       "    </tr>\n",
       "    <tr>\n",
       "      <th>3</th>\n",
       "      <td>1</td>\n",
       "      <td>1</td>\n",
       "    </tr>\n",
       "    <tr>\n",
       "      <th>4</th>\n",
       "      <td>0</td>\n",
       "      <td>3</td>\n",
       "    </tr>\n",
       "    <tr>\n",
       "      <th>...</th>\n",
       "      <td>...</td>\n",
       "      <td>...</td>\n",
       "    </tr>\n",
       "    <tr>\n",
       "      <th>882</th>\n",
       "      <td>0</td>\n",
       "      <td>2</td>\n",
       "    </tr>\n",
       "    <tr>\n",
       "      <th>883</th>\n",
       "      <td>1</td>\n",
       "      <td>1</td>\n",
       "    </tr>\n",
       "    <tr>\n",
       "      <th>884</th>\n",
       "      <td>0</td>\n",
       "      <td>3</td>\n",
       "    </tr>\n",
       "    <tr>\n",
       "      <th>885</th>\n",
       "      <td>1</td>\n",
       "      <td>1</td>\n",
       "    </tr>\n",
       "    <tr>\n",
       "      <th>886</th>\n",
       "      <td>0</td>\n",
       "      <td>3</td>\n",
       "    </tr>\n",
       "  </tbody>\n",
       "</table>\n",
       "<p>887 rows × 2 columns</p>\n",
       "</div>"
      ],
      "text/plain": [
       "     Survived  Pclass\n",
       "0           0       3\n",
       "1           1       1\n",
       "2           1       3\n",
       "3           1       1\n",
       "4           0       3\n",
       "..        ...     ...\n",
       "882         0       2\n",
       "883         1       1\n",
       "884         0       3\n",
       "885         1       1\n",
       "886         0       3\n",
       "\n",
       "[887 rows x 2 columns]"
      ]
     },
     "execution_count": 61,
     "metadata": {},
     "output_type": "execute_result"
    }
   ],
   "source": [
    "# New data frame\n",
    "dataClass = tmain[[\"Survived\", \"Pclass\"]]\n",
    "dataClass"
   ]
  },
  {
   "cell_type": "code",
   "execution_count": 62,
   "id": "42f39b9f",
   "metadata": {},
   "outputs": [
    {
     "name": "stdout",
     "output_type": "stream",
     "text": [
      "<class 'pandas.core.frame.DataFrame'>\n",
      "RangeIndex: 887 entries, 0 to 886\n",
      "Data columns (total 2 columns):\n",
      " #   Column    Non-Null Count  Dtype\n",
      "---  ------    --------------  -----\n",
      " 0   Survived  887 non-null    int64\n",
      " 1   Pclass    887 non-null    int64\n",
      "dtypes: int64(2)\n",
      "memory usage: 14.0 KB\n"
     ]
    }
   ],
   "source": [
    "# general data info\n",
    "dataClass.info()"
   ]
  },
  {
   "cell_type": "code",
   "execution_count": 63,
   "id": "6cc890cf",
   "metadata": {},
   "outputs": [],
   "source": [
    "# Select rows by class\n",
    "dataClass1 = dataClass.loc[dataClass[\"Pclass\"]== 1]\n",
    "dataClass2 = dataClass.loc[dataClass[\"Pclass\"]== 2]\n",
    "dataClass3 = dataClass.loc[dataClass[\"Pclass\"]== 3]"
   ]
  },
  {
   "cell_type": "code",
   "execution_count": 64,
   "id": "e54cdb2c",
   "metadata": {
    "scrolled": true
   },
   "outputs": [
    {
     "data": {
      "text/html": [
       "<div>\n",
       "<style scoped>\n",
       "    .dataframe tbody tr th:only-of-type {\n",
       "        vertical-align: middle;\n",
       "    }\n",
       "\n",
       "    .dataframe tbody tr th {\n",
       "        vertical-align: top;\n",
       "    }\n",
       "\n",
       "    .dataframe thead th {\n",
       "        text-align: right;\n",
       "    }\n",
       "</style>\n",
       "<table border=\"1\" class=\"dataframe\">\n",
       "  <thead>\n",
       "    <tr style=\"text-align: right;\">\n",
       "      <th></th>\n",
       "      <th>Survived</th>\n",
       "      <th>Pclass</th>\n",
       "    </tr>\n",
       "  </thead>\n",
       "  <tbody>\n",
       "    <tr>\n",
       "      <th>1</th>\n",
       "      <td>1</td>\n",
       "      <td>1</td>\n",
       "    </tr>\n",
       "    <tr>\n",
       "      <th>3</th>\n",
       "      <td>1</td>\n",
       "      <td>1</td>\n",
       "    </tr>\n",
       "    <tr>\n",
       "      <th>6</th>\n",
       "      <td>0</td>\n",
       "      <td>1</td>\n",
       "    </tr>\n",
       "  </tbody>\n",
       "</table>\n",
       "</div>"
      ],
      "text/plain": [
       "   Survived  Pclass\n",
       "1         1       1\n",
       "3         1       1\n",
       "6         0       1"
      ]
     },
     "execution_count": 64,
     "metadata": {},
     "output_type": "execute_result"
    }
   ],
   "source": [
    "dataClass1.head(3)"
   ]
  },
  {
   "cell_type": "code",
   "execution_count": 65,
   "id": "56e19663",
   "metadata": {
    "scrolled": true
   },
   "outputs": [
    {
     "data": {
      "text/html": [
       "<div>\n",
       "<style scoped>\n",
       "    .dataframe tbody tr th:only-of-type {\n",
       "        vertical-align: middle;\n",
       "    }\n",
       "\n",
       "    .dataframe tbody tr th {\n",
       "        vertical-align: top;\n",
       "    }\n",
       "\n",
       "    .dataframe thead th {\n",
       "        text-align: right;\n",
       "    }\n",
       "</style>\n",
       "<table border=\"1\" class=\"dataframe\">\n",
       "  <thead>\n",
       "    <tr style=\"text-align: right;\">\n",
       "      <th></th>\n",
       "      <th>Survived</th>\n",
       "      <th>Pclass</th>\n",
       "    </tr>\n",
       "  </thead>\n",
       "  <tbody>\n",
       "    <tr>\n",
       "      <th>9</th>\n",
       "      <td>1</td>\n",
       "      <td>2</td>\n",
       "    </tr>\n",
       "    <tr>\n",
       "      <th>15</th>\n",
       "      <td>1</td>\n",
       "      <td>2</td>\n",
       "    </tr>\n",
       "    <tr>\n",
       "      <th>17</th>\n",
       "      <td>1</td>\n",
       "      <td>2</td>\n",
       "    </tr>\n",
       "  </tbody>\n",
       "</table>\n",
       "</div>"
      ],
      "text/plain": [
       "    Survived  Pclass\n",
       "9          1       2\n",
       "15         1       2\n",
       "17         1       2"
      ]
     },
     "execution_count": 65,
     "metadata": {},
     "output_type": "execute_result"
    }
   ],
   "source": [
    "dataClass2.head(3)"
   ]
  },
  {
   "cell_type": "code",
   "execution_count": 66,
   "id": "c9e38f68",
   "metadata": {},
   "outputs": [
    {
     "data": {
      "text/html": [
       "<div>\n",
       "<style scoped>\n",
       "    .dataframe tbody tr th:only-of-type {\n",
       "        vertical-align: middle;\n",
       "    }\n",
       "\n",
       "    .dataframe tbody tr th {\n",
       "        vertical-align: top;\n",
       "    }\n",
       "\n",
       "    .dataframe thead th {\n",
       "        text-align: right;\n",
       "    }\n",
       "</style>\n",
       "<table border=\"1\" class=\"dataframe\">\n",
       "  <thead>\n",
       "    <tr style=\"text-align: right;\">\n",
       "      <th></th>\n",
       "      <th>Survived</th>\n",
       "      <th>Pclass</th>\n",
       "    </tr>\n",
       "  </thead>\n",
       "  <tbody>\n",
       "    <tr>\n",
       "      <th>0</th>\n",
       "      <td>0</td>\n",
       "      <td>3</td>\n",
       "    </tr>\n",
       "    <tr>\n",
       "      <th>2</th>\n",
       "      <td>1</td>\n",
       "      <td>3</td>\n",
       "    </tr>\n",
       "    <tr>\n",
       "      <th>4</th>\n",
       "      <td>0</td>\n",
       "      <td>3</td>\n",
       "    </tr>\n",
       "  </tbody>\n",
       "</table>\n",
       "</div>"
      ],
      "text/plain": [
       "   Survived  Pclass\n",
       "0         0       3\n",
       "2         1       3\n",
       "4         0       3"
      ]
     },
     "execution_count": 66,
     "metadata": {},
     "output_type": "execute_result"
    }
   ],
   "source": [
    "dataClass3.head(3)"
   ]
  },
  {
   "cell_type": "code",
   "execution_count": 67,
   "id": "bf9022bb",
   "metadata": {},
   "outputs": [],
   "source": [
    "# Lost VS Survived variables Class 1\n",
    "dataClass1_survived = dataClass1.loc[dataClass1[\"Survived\"] == 1]\n",
    "dataClass1_sink = dataClass1.loc[dataClass1[\"Survived\"] == 0]"
   ]
  },
  {
   "cell_type": "code",
   "execution_count": 68,
   "id": "60ae778e",
   "metadata": {},
   "outputs": [],
   "source": [
    "# Lost VS Survived variables Class 2\n",
    "dataClass2_survived = dataClass2.loc[dataClass2[\"Survived\"] == 1]\n",
    "dataClass2_sink = dataClass2.loc[dataClass2[\"Survived\"] == 0]"
   ]
  },
  {
   "cell_type": "code",
   "execution_count": 69,
   "id": "003f668d",
   "metadata": {},
   "outputs": [],
   "source": [
    "# Lost VS Survived variables Class 3\n",
    "dataClass3_survived = dataClass3.loc[dataClass3[\"Survived\"] == 1]\n",
    "dataClass3_sink = dataClass3.loc[dataClass3[\"Survived\"] == 0]"
   ]
  },
  {
   "cell_type": "code",
   "execution_count": 70,
   "id": "d785f430",
   "metadata": {},
   "outputs": [
    {
     "data": {
      "text/plain": [
       "Survived    216\n",
       "Pclass      216\n",
       "dtype: int64"
      ]
     },
     "execution_count": 70,
     "metadata": {},
     "output_type": "execute_result"
    }
   ],
   "source": [
    "# Total people in class 1\n",
    "total_Class1 = dataClass1.count()\n",
    "total_Class1"
   ]
  },
  {
   "cell_type": "code",
   "execution_count": 71,
   "id": "4bae6756",
   "metadata": {},
   "outputs": [
    {
     "data": {
      "text/plain": [
       "Survived    184\n",
       "Pclass      184\n",
       "dtype: int64"
      ]
     },
     "execution_count": 71,
     "metadata": {},
     "output_type": "execute_result"
    }
   ],
   "source": [
    "# Total in class 2\n",
    "total_Class2 = dataClass2.count()\n",
    "total_Class2"
   ]
  },
  {
   "cell_type": "code",
   "execution_count": 72,
   "id": "d37066cd",
   "metadata": {},
   "outputs": [
    {
     "data": {
      "text/plain": [
       "Survived    487\n",
       "Pclass      487\n",
       "dtype: int64"
      ]
     },
     "execution_count": 72,
     "metadata": {},
     "output_type": "execute_result"
    }
   ],
   "source": [
    "# Total people class 3\n",
    "total_Class3 = dataClass3.count()\n",
    "total_Class3"
   ]
  },
  {
   "cell_type": "code",
   "execution_count": 73,
   "id": "e5dff855",
   "metadata": {},
   "outputs": [
    {
     "data": {
      "text/plain": [
       "Survived    136\n",
       "Pclass      136\n",
       "dtype: int64"
      ]
     },
     "execution_count": 73,
     "metadata": {},
     "output_type": "execute_result"
    }
   ],
   "source": [
    "# Count Survived class 1\n",
    "dataClass1_survived = dataClass1_survived.count()\n",
    "dataClass1_survived"
   ]
  },
  {
   "cell_type": "code",
   "execution_count": 74,
   "id": "888710ba",
   "metadata": {
    "scrolled": true
   },
   "outputs": [
    {
     "data": {
      "text/plain": [
       "Survived    80\n",
       "Pclass      80\n",
       "dtype: int64"
      ]
     },
     "execution_count": 74,
     "metadata": {},
     "output_type": "execute_result"
    }
   ],
   "source": [
    "# Count Lost class 1\n",
    "dataClass1_sink = dataClass1_sink.count()\n",
    "dataClass1_sink"
   ]
  },
  {
   "cell_type": "code",
   "execution_count": 75,
   "id": "3397a8d8",
   "metadata": {},
   "outputs": [
    {
     "data": {
      "text/plain": [
       "Survived    87\n",
       "Pclass      87\n",
       "dtype: int64"
      ]
     },
     "execution_count": 75,
     "metadata": {},
     "output_type": "execute_result"
    }
   ],
   "source": [
    "# Count Survived class 2\n",
    "dataClass2_survived = dataClass2_survived.count()\n",
    "dataClass2_survived"
   ]
  },
  {
   "cell_type": "code",
   "execution_count": 76,
   "id": "9b04a3fe",
   "metadata": {},
   "outputs": [
    {
     "data": {
      "text/plain": [
       "Survived    97\n",
       "Pclass      97\n",
       "dtype: int64"
      ]
     },
     "execution_count": 76,
     "metadata": {},
     "output_type": "execute_result"
    }
   ],
   "source": [
    "# Count Lost class 2\n",
    "dataClass2_sink = dataClass2_sink.count()\n",
    "dataClass2_sink"
   ]
  },
  {
   "cell_type": "code",
   "execution_count": 77,
   "id": "1396239f",
   "metadata": {},
   "outputs": [
    {
     "data": {
      "text/plain": [
       "Survived    119\n",
       "Pclass      119\n",
       "dtype: int64"
      ]
     },
     "execution_count": 77,
     "metadata": {},
     "output_type": "execute_result"
    }
   ],
   "source": [
    "# Count Survived class 3\n",
    "dataClass3_survived = dataClass3_survived.count()\n",
    "dataClass3_survived"
   ]
  },
  {
   "cell_type": "code",
   "execution_count": 78,
   "id": "cf005f21",
   "metadata": {},
   "outputs": [
    {
     "data": {
      "text/plain": [
       "Survived    368\n",
       "Pclass      368\n",
       "dtype: int64"
      ]
     },
     "execution_count": 78,
     "metadata": {},
     "output_type": "execute_result"
    }
   ],
   "source": [
    "# Count Lost class 3\n",
    "dataClass3_sink = dataClass3_sink.count()\n",
    "dataClass3_sink"
   ]
  },
  {
   "cell_type": "markdown",
   "id": "52fc9a50",
   "metadata": {},
   "source": [
    "#### Code for calculating Probability for people who got survived and got lost in the 1st class"
   ]
  },
  {
   "cell_type": "code",
   "execution_count": 79,
   "id": "f6a5b158",
   "metadata": {},
   "outputs": [
    {
     "data": {
      "text/plain": [
       "Survived    62.96\n",
       "Pclass      62.96\n",
       "dtype: float64"
      ]
     },
     "execution_count": 79,
     "metadata": {},
     "output_type": "execute_result"
    }
   ],
   "source": [
    "# Probability Survived Class 1\n",
    "probab_survived_Class1 = round((dataClass1_survived / total_Class1) * 100, 2)\n",
    "probab_survived_Class1"
   ]
  },
  {
   "cell_type": "code",
   "execution_count": 80,
   "id": "e3de9238",
   "metadata": {},
   "outputs": [
    {
     "data": {
      "text/plain": [
       "Survived    37.04\n",
       "Pclass      37.04\n",
       "dtype: float64"
      ]
     },
     "execution_count": 80,
     "metadata": {},
     "output_type": "execute_result"
    }
   ],
   "source": [
    "# Probability lost Class 1\n",
    "probab_lost_Class1 = 100 - probab_survived_Class1\n",
    "probab_lost_Class1"
   ]
  },
  {
   "cell_type": "markdown",
   "id": "a91b292c",
   "metadata": {},
   "source": [
    "### Analysis & Interpretetion\n",
    "#### Results of calculation above show there is evindents that:\n",
    "* Out of total 216 people of the 1st class 136 people were survived and 80 people were lost.\n",
    "* Probaility for people of the 1st class survived rate is 62.96% VS deceased rate is 37.04%.\n"
   ]
  },
  {
   "cell_type": "markdown",
   "id": "b1530510",
   "metadata": {},
   "source": [
    "#### Code for calculating Probability for people who got survived and got lost in the 2nd class"
   ]
  },
  {
   "cell_type": "code",
   "execution_count": 81,
   "id": "4f369c6e",
   "metadata": {},
   "outputs": [
    {
     "data": {
      "text/plain": [
       "Survived    47.28\n",
       "Pclass      47.28\n",
       "dtype: float64"
      ]
     },
     "execution_count": 81,
     "metadata": {},
     "output_type": "execute_result"
    }
   ],
   "source": [
    "# Probability Survived Class 2\n",
    "probab_survived_Class2 = round((dataClass2_survived / total_Class2) * 100, 2)\n",
    "probab_survived_Class2"
   ]
  },
  {
   "cell_type": "code",
   "execution_count": 82,
   "id": "350f0c58",
   "metadata": {},
   "outputs": [
    {
     "data": {
      "text/plain": [
       "Survived    52.72\n",
       "Pclass      52.72\n",
       "dtype: float64"
      ]
     },
     "execution_count": 82,
     "metadata": {},
     "output_type": "execute_result"
    }
   ],
   "source": [
    "# Probability lost Class 2\n",
    "probab_lost_Class2 = 100 - probab_survived_Class2\n",
    "probab_lost_Class2"
   ]
  },
  {
   "cell_type": "markdown",
   "id": "5624bb99",
   "metadata": {},
   "source": [
    "### Analysis & Interpretetion\n",
    "#### Results of calculation above show there is evindents that:\n",
    "* Out of total 184 people of the 2nd class 87 people were survived and 97 people were lost.\n",
    "* Probaility for people of the 2nd class survived rate is 47.28% VS deceased rate is 52.72%."
   ]
  },
  {
   "cell_type": "markdown",
   "id": "0a6482ea",
   "metadata": {},
   "source": [
    "#### Code for calculating Probability for people who got survived and got lost in the 3rd class"
   ]
  },
  {
   "cell_type": "code",
   "execution_count": 46,
   "id": "5f94463c",
   "metadata": {},
   "outputs": [
    {
     "data": {
      "text/plain": [
       "Survived    24.44\n",
       "Pclass      24.44\n",
       "dtype: float64"
      ]
     },
     "execution_count": 46,
     "metadata": {},
     "output_type": "execute_result"
    }
   ],
   "source": [
    "# Probability Survived Class 3\n",
    "probab_survived_Class3 = round((dataClass3_survived / total_Class3) * 100, 2)\n",
    "probab_survived_Class3"
   ]
  },
  {
   "cell_type": "code",
   "execution_count": 47,
   "id": "a9177e3a",
   "metadata": {},
   "outputs": [
    {
     "data": {
      "text/plain": [
       "Survived    75.56\n",
       "Pclass      75.56\n",
       "dtype: float64"
      ]
     },
     "execution_count": 47,
     "metadata": {},
     "output_type": "execute_result"
    }
   ],
   "source": [
    "# Probability lost Class 3\n",
    "probab_lost_Class3 = 100 - probab_survived_Class3\n",
    "probab_lost_Class3"
   ]
  },
  {
   "cell_type": "markdown",
   "id": "a29cfcf4",
   "metadata": {},
   "source": [
    "### Analysis & Interpretetion\n",
    "#### Results of calculation above show there is evindents that:\n",
    "* Out of total 487 people of the 3rd class 119 people were survived and 368 people were lost.\n",
    "* Probaility for people of the 3rd class survived rate is 24.44% VS deceased rate is 75.56%."
   ]
  },
  {
   "cell_type": "code",
   "execution_count": 52,
   "id": "cc3f145d",
   "metadata": {},
   "outputs": [
    {
     "data": {
      "image/png": "[encoded data removed]",
      "text/plain": [
       "<Figure size 640x480 with 1 Axes>"
      ]
     },
     "metadata": {},
     "output_type": "display_data"
    }
   ],
   "source": [
    "# Vizualization\n",
    "survived_by_class = dataClass.groupby(\"Pclass\")[\"Survived\"].value_counts().unstack()\n",
    "survived_by_class.plot(kind='bar', color = [\"Black\", \"Red\"], title = \"Lost VS Survived by Class\")\n",
    "plt.legend([\"Deceased\", \"Survived\"])\n",
    "plt.show()"
   ]
  },
  {
   "cell_type": "markdown",
   "id": "c208c3c4",
   "metadata": {},
   "source": [
    "### Summary & Conclusion\n",
    "Based on the statistical analysis and observation reserch Lost VS Survived by class:\n",
    "There is evidents that probability survived rate of the 1st class is 62.96% VS deceased rate is 37.04%, of the 2nd class survived rate is 47.28% VS deceased rate is 52.72%, and of the 3rd class survived rate is 24.44% VS deceased rate is 75.56%.\n",
    "For the 1st class out of total 216 people, 136 people were survived and 80 people were lost.\n",
    "For the 2nd class out of total 184 people, 87 people were survived and 97 people were lost.\n",
    "For the 3rd class out of total 487 people, 119 people were survived and 368 people were lost.\n",
    "\n",
    "Therefore we concludes that there is significant evindence that passengers of the 1st class survival rate is significantly higher compare to passengers in the 2nd and 3rd class."
   ]
  },
  {
   "cell_type": "markdown",
   "id": "6efcf133",
   "metadata": {},
   "source": [
    "### End question 5"
   ]
  },
  {
   "cell_type": "markdown",
   "id": "f32bb131",
   "metadata": {},
   "source": [
    "### Question 6. Calculate the conditional probability that a person survives given their sex and passenger-class.\n",
    "### In other words:\n",
    "### What is probablity for Male and Female survival rate(in %) in they were passenger of 1st class, 2nd class, and 3rd class"
   ]
  },
  {
   "cell_type": "code",
   "execution_count": 4,
   "id": "2614c33b",
   "metadata": {},
   "outputs": [],
   "source": [
    "# New dataframe\n",
    "df = tmain[[\"Survived\", \"Sex\", \"Pclass\"]]"
   ]
  },
  {
   "cell_type": "markdown",
   "id": "83234765",
   "metadata": {},
   "source": [
    "#### Code for calculeting conditional probability that a person is Female or Male survives in 1st passenger-class."
   ]
  },
  {
   "cell_type": "code",
   "execution_count": 6,
   "id": "e3726be2",
   "metadata": {},
   "outputs": [
    {
     "data": {
      "text/html": [
       "<div>\n",
       "<style scoped>\n",
       "    .dataframe tbody tr th:only-of-type {\n",
       "        vertical-align: middle;\n",
       "    }\n",
       "\n",
       "    .dataframe tbody tr th {\n",
       "        vertical-align: top;\n",
       "    }\n",
       "\n",
       "    .dataframe thead th {\n",
       "        text-align: right;\n",
       "    }\n",
       "</style>\n",
       "<table border=\"1\" class=\"dataframe\">\n",
       "  <thead>\n",
       "    <tr style=\"text-align: right;\">\n",
       "      <th></th>\n",
       "      <th>Survived</th>\n",
       "      <th>Sex</th>\n",
       "      <th>Pclass</th>\n",
       "    </tr>\n",
       "  </thead>\n",
       "  <tbody>\n",
       "    <tr>\n",
       "      <th>1</th>\n",
       "      <td>1</td>\n",
       "      <td>female</td>\n",
       "      <td>1</td>\n",
       "    </tr>\n",
       "    <tr>\n",
       "      <th>3</th>\n",
       "      <td>1</td>\n",
       "      <td>female</td>\n",
       "      <td>1</td>\n",
       "    </tr>\n",
       "    <tr>\n",
       "      <th>11</th>\n",
       "      <td>1</td>\n",
       "      <td>female</td>\n",
       "      <td>1</td>\n",
       "    </tr>\n",
       "    <tr>\n",
       "      <th>31</th>\n",
       "      <td>1</td>\n",
       "      <td>female</td>\n",
       "      <td>1</td>\n",
       "    </tr>\n",
       "    <tr>\n",
       "      <th>51</th>\n",
       "      <td>1</td>\n",
       "      <td>female</td>\n",
       "      <td>1</td>\n",
       "    </tr>\n",
       "  </tbody>\n",
       "</table>\n",
       "</div>"
      ],
      "text/plain": [
       "    Survived     Sex  Pclass\n",
       "1          1  female       1\n",
       "3          1  female       1\n",
       "11         1  female       1\n",
       "31         1  female       1\n",
       "51         1  female       1"
      ]
     },
     "execution_count": 6,
     "metadata": {},
     "output_type": "execute_result"
    }
   ],
   "source": [
    "# Select rows by class\n",
    "#Selecting rows for female\n",
    "dfF1 = df.loc[df[\"Sex\"] == \"female\"]\n",
    "dfF1 = dfF1.loc[dfF1[\"Pclass\"]== 1]\n",
    "dfF1.head(5)"
   ]
  },
  {
   "cell_type": "code",
   "execution_count": 7,
   "id": "5b44e2fd",
   "metadata": {},
   "outputs": [
    {
     "data": {
      "text/html": [
       "<div>\n",
       "<style scoped>\n",
       "    .dataframe tbody tr th:only-of-type {\n",
       "        vertical-align: middle;\n",
       "    }\n",
       "\n",
       "    .dataframe tbody tr th {\n",
       "        vertical-align: top;\n",
       "    }\n",
       "\n",
       "    .dataframe thead th {\n",
       "        text-align: right;\n",
       "    }\n",
       "</style>\n",
       "<table border=\"1\" class=\"dataframe\">\n",
       "  <thead>\n",
       "    <tr style=\"text-align: right;\">\n",
       "      <th></th>\n",
       "      <th>Survived</th>\n",
       "      <th>Sex</th>\n",
       "      <th>Pclass</th>\n",
       "    </tr>\n",
       "  </thead>\n",
       "  <tbody>\n",
       "    <tr>\n",
       "      <th>6</th>\n",
       "      <td>0</td>\n",
       "      <td>male</td>\n",
       "      <td>1</td>\n",
       "    </tr>\n",
       "    <tr>\n",
       "      <th>23</th>\n",
       "      <td>1</td>\n",
       "      <td>male</td>\n",
       "      <td>1</td>\n",
       "    </tr>\n",
       "    <tr>\n",
       "      <th>27</th>\n",
       "      <td>0</td>\n",
       "      <td>male</td>\n",
       "      <td>1</td>\n",
       "    </tr>\n",
       "    <tr>\n",
       "      <th>30</th>\n",
       "      <td>0</td>\n",
       "      <td>male</td>\n",
       "      <td>1</td>\n",
       "    </tr>\n",
       "    <tr>\n",
       "      <th>34</th>\n",
       "      <td>0</td>\n",
       "      <td>male</td>\n",
       "      <td>1</td>\n",
       "    </tr>\n",
       "  </tbody>\n",
       "</table>\n",
       "</div>"
      ],
      "text/plain": [
       "    Survived   Sex  Pclass\n",
       "6          0  male       1\n",
       "23         1  male       1\n",
       "27         0  male       1\n",
       "30         0  male       1\n",
       "34         0  male       1"
      ]
     },
     "execution_count": 7,
     "metadata": {},
     "output_type": "execute_result"
    }
   ],
   "source": [
    "# Select rows by class\n",
    "#Selecting rows for male\n",
    "dfM1 = df.loc[df[\"Sex\"] == \"male\"]\n",
    "dfM1 = dfM1.loc[dfM1[\"Pclass\"]== 1]\n",
    "dfM1.head(5)"
   ]
  },
  {
   "cell_type": "code",
   "execution_count": 8,
   "id": "a3be262b",
   "metadata": {},
   "outputs": [],
   "source": [
    "# Lost VS Survived female variables Class 1\n",
    "dfF1_survived = dfF1.loc[dfF1[\"Survived\"] == 1]\n",
    "dfF1_sink = dfF1.loc[dfF1[\"Survived\"] == 0]"
   ]
  },
  {
   "cell_type": "code",
   "execution_count": 9,
   "id": "aa6d2580",
   "metadata": {},
   "outputs": [],
   "source": [
    "# Lost VS Survived male variables Class 1\n",
    "dfM1_survived = dfM1.loc[dfM1[\"Survived\"] == 1]\n",
    "dfM1_sink = dfM1.loc[dfM1[\"Survived\"] == 0]"
   ]
  },
  {
   "cell_type": "code",
   "execution_count": 10,
   "id": "295a1554",
   "metadata": {},
   "outputs": [
    {
     "data": {
      "text/plain": [
       "Survived    94\n",
       "Sex         94\n",
       "Pclass      94\n",
       "dtype: int64"
      ]
     },
     "execution_count": 10,
     "metadata": {},
     "output_type": "execute_result"
    }
   ],
   "source": [
    "# Total Female class 1\n",
    "total_FClass1 = dfF1.count()\n",
    "total_FClass1"
   ]
  },
  {
   "cell_type": "code",
   "execution_count": 11,
   "id": "0db7fe6e",
   "metadata": {},
   "outputs": [
    {
     "data": {
      "text/plain": [
       "Survived    122\n",
       "Sex         122\n",
       "Pclass      122\n",
       "dtype: int64"
      ]
     },
     "execution_count": 11,
     "metadata": {},
     "output_type": "execute_result"
    }
   ],
   "source": [
    "# Total Male class 1\n",
    "total_MClass1 = dfM1.count()\n",
    "total_MClass1"
   ]
  },
  {
   "cell_type": "code",
   "execution_count": 12,
   "id": "1ea9dfc4",
   "metadata": {},
   "outputs": [
    {
     "data": {
      "text/plain": [
       "Survived    91\n",
       "Sex         91\n",
       "Pclass      91\n",
       "dtype: int64"
      ]
     },
     "execution_count": 12,
     "metadata": {},
     "output_type": "execute_result"
    }
   ],
   "source": [
    "# Count Survived Female class 1\n",
    "dfF1_survived = dfF1_survived.count()\n",
    "dfF1_survived"
   ]
  },
  {
   "cell_type": "code",
   "execution_count": 13,
   "id": "0177a9a5",
   "metadata": {},
   "outputs": [
    {
     "data": {
      "text/plain": [
       "Survived    45\n",
       "Sex         45\n",
       "Pclass      45\n",
       "dtype: int64"
      ]
     },
     "execution_count": 13,
     "metadata": {},
     "output_type": "execute_result"
    }
   ],
   "source": [
    "# Count Survived Male class 1\n",
    "dfM1_survived = dfM1_survived.count()\n",
    "dfM1_survived"
   ]
  },
  {
   "cell_type": "code",
   "execution_count": 14,
   "id": "5307930b",
   "metadata": {},
   "outputs": [
    {
     "data": {
      "text/plain": [
       "Survived    3\n",
       "Sex         3\n",
       "Pclass      3\n",
       "dtype: int64"
      ]
     },
     "execution_count": 14,
     "metadata": {},
     "output_type": "execute_result"
    }
   ],
   "source": [
    "# Count Lost Female class 1\n",
    "dfF1_sink = dfF1_sink.count()\n",
    "dfF1_sink"
   ]
  },
  {
   "cell_type": "code",
   "execution_count": 15,
   "id": "3540424c",
   "metadata": {},
   "outputs": [
    {
     "data": {
      "text/plain": [
       "Survived    77\n",
       "Sex         77\n",
       "Pclass      77\n",
       "dtype: int64"
      ]
     },
     "execution_count": 15,
     "metadata": {},
     "output_type": "execute_result"
    }
   ],
   "source": [
    "# Count Lost Male class 1\n",
    "dfM1_sink = dfM1_sink.count()\n",
    "dfM1_sink"
   ]
  },
  {
   "cell_type": "code",
   "execution_count": 16,
   "id": "e9f26ab5",
   "metadata": {},
   "outputs": [
    {
     "data": {
      "text/plain": [
       "Survived    96.81\n",
       "Sex         96.81\n",
       "Pclass      96.81\n",
       "dtype: float64"
      ]
     },
     "execution_count": 16,
     "metadata": {},
     "output_type": "execute_result"
    }
   ],
   "source": [
    "# Probability Female Survived Class 1\n",
    "probab_survived_FClass1 = round((dfF1_survived / total_FClass1) * 100, 2)\n",
    "probab_survived_FClass1"
   ]
  },
  {
   "cell_type": "code",
   "execution_count": 17,
   "id": "a16eb7f2",
   "metadata": {},
   "outputs": [
    {
     "data": {
      "text/plain": [
       "Survived    3.19\n",
       "Sex         3.19\n",
       "Pclass      3.19\n",
       "dtype: float64"
      ]
     },
     "execution_count": 17,
     "metadata": {},
     "output_type": "execute_result"
    }
   ],
   "source": [
    "# Probability Female Lost Class 1\n",
    "probab_lost_FClass1 = 100 - probab_survived_FClass1\n",
    "probab_lost_FClass1"
   ]
  },
  {
   "cell_type": "code",
   "execution_count": 18,
   "id": "f1249a66",
   "metadata": {},
   "outputs": [
    {
     "data": {
      "text/plain": [
       "Survived    36.89\n",
       "Sex         36.89\n",
       "Pclass      36.89\n",
       "dtype: float64"
      ]
     },
     "execution_count": 18,
     "metadata": {},
     "output_type": "execute_result"
    }
   ],
   "source": [
    "# Probability Male Survived Class 1\n",
    "probab_survived_MClass1 = round((dfM1_survived / total_MClass1) * 100, 2)\n",
    "probab_survived_MClass1"
   ]
  },
  {
   "cell_type": "code",
   "execution_count": 19,
   "id": "a4a708d9",
   "metadata": {},
   "outputs": [
    {
     "data": {
      "text/plain": [
       "Survived    63.11\n",
       "Sex         63.11\n",
       "Pclass      63.11\n",
       "dtype: float64"
      ]
     },
     "execution_count": 19,
     "metadata": {},
     "output_type": "execute_result"
    }
   ],
   "source": [
    "# Probability Male Lost Class 1\n",
    "probab_lost_MClass1 = 100 - probab_survived_MClass1\n",
    "probab_lost_MClass1"
   ]
  },
  {
   "cell_type": "markdown",
   "id": "71983baf",
   "metadata": {},
   "source": [
    "### Analysis & Interpretetion\n",
    "#### Results of calculation above show there is evindents that:\n",
    "* Conditional probability that a person is Female survives in 1st passenger-class is 96.81% and Male 36.89%\n",
    "* Conditional probability that a person is Female get lost in 1st passenger-class is 3.19% and Male 63.11%¶"
   ]
  },
  {
   "cell_type": "markdown",
   "id": "eb56df97",
   "metadata": {},
   "source": [
    "#### Code for calculeting conditional probability that a person is Female or Male survives in 2nd passenger-class."
   ]
  },
  {
   "cell_type": "code",
   "execution_count": 3,
   "id": "ce81dbec",
   "metadata": {},
   "outputs": [],
   "source": [
    "# New dataFrame\n",
    "df = tmain[[\"Survived\", \"Sex\", \"Pclass\"]]"
   ]
  },
  {
   "cell_type": "code",
   "execution_count": 4,
   "id": "237705c5",
   "metadata": {},
   "outputs": [
    {
     "data": {
      "text/html": [
       "<div>\n",
       "<style scoped>\n",
       "    .dataframe tbody tr th:only-of-type {\n",
       "        vertical-align: middle;\n",
       "    }\n",
       "\n",
       "    .dataframe tbody tr th {\n",
       "        vertical-align: top;\n",
       "    }\n",
       "\n",
       "    .dataframe thead th {\n",
       "        text-align: right;\n",
       "    }\n",
       "</style>\n",
       "<table border=\"1\" class=\"dataframe\">\n",
       "  <thead>\n",
       "    <tr style=\"text-align: right;\">\n",
       "      <th></th>\n",
       "      <th>Survived</th>\n",
       "      <th>Sex</th>\n",
       "      <th>Pclass</th>\n",
       "    </tr>\n",
       "  </thead>\n",
       "  <tbody>\n",
       "    <tr>\n",
       "      <th>9</th>\n",
       "      <td>1</td>\n",
       "      <td>female</td>\n",
       "      <td>2</td>\n",
       "    </tr>\n",
       "    <tr>\n",
       "      <th>15</th>\n",
       "      <td>1</td>\n",
       "      <td>female</td>\n",
       "      <td>2</td>\n",
       "    </tr>\n",
       "    <tr>\n",
       "      <th>41</th>\n",
       "      <td>0</td>\n",
       "      <td>female</td>\n",
       "      <td>2</td>\n",
       "    </tr>\n",
       "    <tr>\n",
       "      <th>42</th>\n",
       "      <td>1</td>\n",
       "      <td>female</td>\n",
       "      <td>2</td>\n",
       "    </tr>\n",
       "    <tr>\n",
       "      <th>52</th>\n",
       "      <td>1</td>\n",
       "      <td>female</td>\n",
       "      <td>2</td>\n",
       "    </tr>\n",
       "  </tbody>\n",
       "</table>\n",
       "</div>"
      ],
      "text/plain": [
       "    Survived     Sex  Pclass\n",
       "9          1  female       2\n",
       "15         1  female       2\n",
       "41         0  female       2\n",
       "42         1  female       2\n",
       "52         1  female       2"
      ]
     },
     "execution_count": 4,
     "metadata": {},
     "output_type": "execute_result"
    }
   ],
   "source": [
    "# Select rows for 2nd class\n",
    "#Selecting rows for female\n",
    "dfF2 = df.loc[df[\"Sex\"] == \"female\"]\n",
    "dfF2 = dfF2.loc[dfF2[\"Pclass\"]== 2]\n",
    "dfF2.head(5)"
   ]
  },
  {
   "cell_type": "code",
   "execution_count": 5,
   "id": "3c5a247c",
   "metadata": {},
   "outputs": [
    {
     "data": {
      "text/html": [
       "<div>\n",
       "<style scoped>\n",
       "    .dataframe tbody tr th:only-of-type {\n",
       "        vertical-align: middle;\n",
       "    }\n",
       "\n",
       "    .dataframe tbody tr th {\n",
       "        vertical-align: top;\n",
       "    }\n",
       "\n",
       "    .dataframe thead th {\n",
       "        text-align: right;\n",
       "    }\n",
       "</style>\n",
       "<table border=\"1\" class=\"dataframe\">\n",
       "  <thead>\n",
       "    <tr style=\"text-align: right;\">\n",
       "      <th></th>\n",
       "      <th>Survived</th>\n",
       "      <th>Sex</th>\n",
       "      <th>Pclass</th>\n",
       "    </tr>\n",
       "  </thead>\n",
       "  <tbody>\n",
       "    <tr>\n",
       "      <th>17</th>\n",
       "      <td>1</td>\n",
       "      <td>male</td>\n",
       "      <td>2</td>\n",
       "    </tr>\n",
       "    <tr>\n",
       "      <th>20</th>\n",
       "      <td>0</td>\n",
       "      <td>male</td>\n",
       "      <td>2</td>\n",
       "    </tr>\n",
       "    <tr>\n",
       "      <th>21</th>\n",
       "      <td>1</td>\n",
       "      <td>male</td>\n",
       "      <td>2</td>\n",
       "    </tr>\n",
       "    <tr>\n",
       "      <th>33</th>\n",
       "      <td>0</td>\n",
       "      <td>male</td>\n",
       "      <td>2</td>\n",
       "    </tr>\n",
       "    <tr>\n",
       "      <th>69</th>\n",
       "      <td>0</td>\n",
       "      <td>male</td>\n",
       "      <td>2</td>\n",
       "    </tr>\n",
       "  </tbody>\n",
       "</table>\n",
       "</div>"
      ],
      "text/plain": [
       "    Survived   Sex  Pclass\n",
       "17         1  male       2\n",
       "20         0  male       2\n",
       "21         1  male       2\n",
       "33         0  male       2\n",
       "69         0  male       2"
      ]
     },
     "execution_count": 5,
     "metadata": {},
     "output_type": "execute_result"
    }
   ],
   "source": [
    "# Select rows for 2nd class\n",
    "#Selecting rows for male\n",
    "dfM2 = df.loc[df[\"Sex\"] == \"male\"]\n",
    "dfM2 = dfM2.loc[dfM2[\"Pclass\"]== 2]\n",
    "dfM2.head(5)"
   ]
  },
  {
   "cell_type": "code",
   "execution_count": 6,
   "id": "f3f74906",
   "metadata": {},
   "outputs": [],
   "source": [
    "# Lost VS Survived female variables Class 2\n",
    "dfF2_survived = dfF2.loc[dfF2[\"Survived\"] == 1]\n",
    "dfF2_sink = dfF2.loc[dfF2[\"Survived\"] == 0]"
   ]
  },
  {
   "cell_type": "code",
   "execution_count": 7,
   "id": "5497dc39",
   "metadata": {},
   "outputs": [],
   "source": [
    "# Lost VS Survived male variables Class 2\n",
    "dfM2_survived = dfM2.loc[dfM2[\"Survived\"] == 1]\n",
    "dfM2_sink = dfM2.loc[dfM2[\"Survived\"] == 0]"
   ]
  },
  {
   "cell_type": "code",
   "execution_count": 8,
   "id": "eeee70d0",
   "metadata": {},
   "outputs": [
    {
     "data": {
      "text/plain": [
       "Survived    76\n",
       "Sex         76\n",
       "Pclass      76\n",
       "dtype: int64"
      ]
     },
     "execution_count": 8,
     "metadata": {},
     "output_type": "execute_result"
    }
   ],
   "source": [
    "# Total Female class 2\n",
    "total_FClass2 = dfF2.count()\n",
    "total_FClass2"
   ]
  },
  {
   "cell_type": "code",
   "execution_count": 10,
   "id": "78643ccc",
   "metadata": {},
   "outputs": [
    {
     "data": {
      "text/plain": [
       "Survived    108\n",
       "Sex         108\n",
       "Pclass      108\n",
       "dtype: int64"
      ]
     },
     "execution_count": 10,
     "metadata": {},
     "output_type": "execute_result"
    }
   ],
   "source": [
    "# Total Male class 2\n",
    "total_MClass2 = dfM2.count()\n",
    "total_MClass2"
   ]
  },
  {
   "cell_type": "code",
   "execution_count": 11,
   "id": "982b38c4",
   "metadata": {},
   "outputs": [
    {
     "data": {
      "text/plain": [
       "Survived    70\n",
       "Sex         70\n",
       "Pclass      70\n",
       "dtype: int64"
      ]
     },
     "execution_count": 11,
     "metadata": {},
     "output_type": "execute_result"
    }
   ],
   "source": [
    "# Count Survived Female class 2\n",
    "dfF2_survived = dfF2_survived.count()\n",
    "dfF2_survived"
   ]
  },
  {
   "cell_type": "code",
   "execution_count": 12,
   "id": "10c84c44",
   "metadata": {},
   "outputs": [
    {
     "data": {
      "text/plain": [
       "Survived    17\n",
       "Sex         17\n",
       "Pclass      17\n",
       "dtype: int64"
      ]
     },
     "execution_count": 12,
     "metadata": {},
     "output_type": "execute_result"
    }
   ],
   "source": [
    "# Count Survived Male class 2\n",
    "dfM2_survived = dfM2_survived.count()\n",
    "dfM2_survived"
   ]
  },
  {
   "cell_type": "code",
   "execution_count": 13,
   "id": "e80c073e",
   "metadata": {},
   "outputs": [
    {
     "data": {
      "text/plain": [
       "Survived    6\n",
       "Sex         6\n",
       "Pclass      6\n",
       "dtype: int64"
      ]
     },
     "execution_count": 13,
     "metadata": {},
     "output_type": "execute_result"
    }
   ],
   "source": [
    "# Count Lost Female class 2\n",
    "dfF2_sink = dfF2_sink.count()\n",
    "dfF2_sink"
   ]
  },
  {
   "cell_type": "code",
   "execution_count": 14,
   "id": "28a5ba76",
   "metadata": {},
   "outputs": [
    {
     "data": {
      "text/plain": [
       "Survived    91\n",
       "Sex         91\n",
       "Pclass      91\n",
       "dtype: int64"
      ]
     },
     "execution_count": 14,
     "metadata": {},
     "output_type": "execute_result"
    }
   ],
   "source": [
    "# Count Lost Male class 2\n",
    "dfM2_sink = dfM2_sink.count()\n",
    "dfM2_sink"
   ]
  },
  {
   "cell_type": "code",
   "execution_count": 15,
   "id": "bf81ad53",
   "metadata": {},
   "outputs": [
    {
     "data": {
      "text/plain": [
       "Survived    92.11\n",
       "Sex         92.11\n",
       "Pclass      92.11\n",
       "dtype: float64"
      ]
     },
     "execution_count": 15,
     "metadata": {},
     "output_type": "execute_result"
    }
   ],
   "source": [
    "# Probability Female Survived Class 2\n",
    "probab_survived_FClass2 = round((dfF2_survived / total_FClass2) * 100, 2)\n",
    "probab_survived_FClass2"
   ]
  },
  {
   "cell_type": "code",
   "execution_count": 16,
   "id": "75a6796a",
   "metadata": {},
   "outputs": [
    {
     "data": {
      "text/plain": [
       "Survived    7.89\n",
       "Sex         7.89\n",
       "Pclass      7.89\n",
       "dtype: float64"
      ]
     },
     "execution_count": 16,
     "metadata": {},
     "output_type": "execute_result"
    }
   ],
   "source": [
    "# Probability Female Lost Class 2\n",
    "probab_lost_FClass2 = 100 - probab_survived_FClass2\n",
    "probab_lost_FClass2"
   ]
  },
  {
   "cell_type": "code",
   "execution_count": 19,
   "id": "f6f6c70b",
   "metadata": {},
   "outputs": [
    {
     "data": {
      "text/plain": [
       "Survived    15.74\n",
       "Sex         15.74\n",
       "Pclass      15.74\n",
       "dtype: float64"
      ]
     },
     "execution_count": 19,
     "metadata": {},
     "output_type": "execute_result"
    }
   ],
   "source": [
    "# Probability Male Survived Class 2\n",
    "probab_survived_MClass2 = round((dfM2_survived / total_MClass2) * 100, 2)\n",
    "probab_survived_MClass2"
   ]
  },
  {
   "cell_type": "code",
   "execution_count": 20,
   "id": "a4b125f0",
   "metadata": {},
   "outputs": [
    {
     "data": {
      "text/plain": [
       "Survived    84.26\n",
       "Sex         84.26\n",
       "Pclass      84.26\n",
       "dtype: float64"
      ]
     },
     "execution_count": 20,
     "metadata": {},
     "output_type": "execute_result"
    }
   ],
   "source": [
    "# Probability Male Lost Class 2\n",
    "probab_lost_MClass2 = 100 - probab_survived_MClass2\n",
    "probab_lost_MClass2"
   ]
  },
  {
   "cell_type": "markdown",
   "id": "ecfc20a8",
   "metadata": {},
   "source": [
    "### Analysis & Interpretetion\n",
    "#### Results of calculation above show there is evindents that:\n",
    "* Conditional probability that a person is Female survives in 2nd passenger-class is 92.11% and Male 15.74%\n",
    "* Conditional probability that a person is Female get lost in 2nd passenger-class is 7.89% and Male 84.26%"
   ]
  },
  {
   "cell_type": "markdown",
   "id": "0116893d",
   "metadata": {},
   "source": [
    "#### Code for calculeting conditional probability that a person is Female or Male survives in 3rd passenger-class."
   ]
  },
  {
   "cell_type": "code",
   "execution_count": 21,
   "id": "f424383d",
   "metadata": {},
   "outputs": [],
   "source": [
    "# New dataFrame\n",
    "df = tmain[[\"Survived\", \"Sex\", \"Pclass\"]]"
   ]
  },
  {
   "cell_type": "code",
   "execution_count": 22,
   "id": "ea87d587",
   "metadata": {},
   "outputs": [
    {
     "data": {
      "text/html": [
       "<div>\n",
       "<style scoped>\n",
       "    .dataframe tbody tr th:only-of-type {\n",
       "        vertical-align: middle;\n",
       "    }\n",
       "\n",
       "    .dataframe tbody tr th {\n",
       "        vertical-align: top;\n",
       "    }\n",
       "\n",
       "    .dataframe thead th {\n",
       "        text-align: right;\n",
       "    }\n",
       "</style>\n",
       "<table border=\"1\" class=\"dataframe\">\n",
       "  <thead>\n",
       "    <tr style=\"text-align: right;\">\n",
       "      <th></th>\n",
       "      <th>Survived</th>\n",
       "      <th>Sex</th>\n",
       "      <th>Pclass</th>\n",
       "    </tr>\n",
       "  </thead>\n",
       "  <tbody>\n",
       "    <tr>\n",
       "      <th>2</th>\n",
       "      <td>1</td>\n",
       "      <td>female</td>\n",
       "      <td>3</td>\n",
       "    </tr>\n",
       "    <tr>\n",
       "      <th>8</th>\n",
       "      <td>1</td>\n",
       "      <td>female</td>\n",
       "      <td>3</td>\n",
       "    </tr>\n",
       "    <tr>\n",
       "      <th>10</th>\n",
       "      <td>1</td>\n",
       "      <td>female</td>\n",
       "      <td>3</td>\n",
       "    </tr>\n",
       "    <tr>\n",
       "      <th>14</th>\n",
       "      <td>0</td>\n",
       "      <td>female</td>\n",
       "      <td>3</td>\n",
       "    </tr>\n",
       "    <tr>\n",
       "      <th>18</th>\n",
       "      <td>0</td>\n",
       "      <td>female</td>\n",
       "      <td>3</td>\n",
       "    </tr>\n",
       "  </tbody>\n",
       "</table>\n",
       "</div>"
      ],
      "text/plain": [
       "    Survived     Sex  Pclass\n",
       "2          1  female       3\n",
       "8          1  female       3\n",
       "10         1  female       3\n",
       "14         0  female       3\n",
       "18         0  female       3"
      ]
     },
     "execution_count": 22,
     "metadata": {},
     "output_type": "execute_result"
    }
   ],
   "source": [
    "# Select rows by class\n",
    "#Selecting rows for female\n",
    "dfF3 = df.loc[df[\"Sex\"] == \"female\"]\n",
    "dfF3 = dfF3.loc[dfF3[\"Pclass\"]== 3]\n",
    "\n",
    "dfF3.head(5)"
   ]
  },
  {
   "cell_type": "code",
   "execution_count": 24,
   "id": "b69ae06b",
   "metadata": {},
   "outputs": [
    {
     "data": {
      "text/html": [
       "<div>\n",
       "<style scoped>\n",
       "    .dataframe tbody tr th:only-of-type {\n",
       "        vertical-align: middle;\n",
       "    }\n",
       "\n",
       "    .dataframe tbody tr th {\n",
       "        vertical-align: top;\n",
       "    }\n",
       "\n",
       "    .dataframe thead th {\n",
       "        text-align: right;\n",
       "    }\n",
       "</style>\n",
       "<table border=\"1\" class=\"dataframe\">\n",
       "  <thead>\n",
       "    <tr style=\"text-align: right;\">\n",
       "      <th></th>\n",
       "      <th>Survived</th>\n",
       "      <th>Sex</th>\n",
       "      <th>Pclass</th>\n",
       "    </tr>\n",
       "  </thead>\n",
       "  <tbody>\n",
       "    <tr>\n",
       "      <th>0</th>\n",
       "      <td>0</td>\n",
       "      <td>male</td>\n",
       "      <td>3</td>\n",
       "    </tr>\n",
       "    <tr>\n",
       "      <th>4</th>\n",
       "      <td>0</td>\n",
       "      <td>male</td>\n",
       "      <td>3</td>\n",
       "    </tr>\n",
       "    <tr>\n",
       "      <th>5</th>\n",
       "      <td>0</td>\n",
       "      <td>male</td>\n",
       "      <td>3</td>\n",
       "    </tr>\n",
       "    <tr>\n",
       "      <th>7</th>\n",
       "      <td>0</td>\n",
       "      <td>male</td>\n",
       "      <td>3</td>\n",
       "    </tr>\n",
       "    <tr>\n",
       "      <th>12</th>\n",
       "      <td>0</td>\n",
       "      <td>male</td>\n",
       "      <td>3</td>\n",
       "    </tr>\n",
       "  </tbody>\n",
       "</table>\n",
       "</div>"
      ],
      "text/plain": [
       "    Survived   Sex  Pclass\n",
       "0          0  male       3\n",
       "4          0  male       3\n",
       "5          0  male       3\n",
       "7          0  male       3\n",
       "12         0  male       3"
      ]
     },
     "execution_count": 24,
     "metadata": {},
     "output_type": "execute_result"
    }
   ],
   "source": [
    "# Select rows by class\n",
    "#Selecting rows for male\n",
    "dfM3 = df.loc[df[\"Sex\"] == \"male\"]\n",
    "dfM3 = dfM3.loc[dfM3[\"Pclass\"]== 3]\n",
    "dfM3.head(5)"
   ]
  },
  {
   "cell_type": "code",
   "execution_count": 25,
   "id": "2406b60d",
   "metadata": {},
   "outputs": [],
   "source": [
    "# Lost VS Survived female variables Class 3\n",
    "dfF3_survived = dfF3.loc[dfF3[\"Survived\"] == 1]\n",
    "dfF3_sink = dfF3.loc[dfF3[\"Survived\"] == 0]"
   ]
  },
  {
   "cell_type": "code",
   "execution_count": 26,
   "id": "30e9baf2",
   "metadata": {},
   "outputs": [],
   "source": [
    "# Lost VS Survived male variables Class 3\n",
    "dfM3_survived = dfM3.loc[dfM3[\"Survived\"] == 1]\n",
    "dfM3_sink = dfM3.loc[dfM3[\"Survived\"] == 0]"
   ]
  },
  {
   "cell_type": "code",
   "execution_count": 27,
   "id": "56556924",
   "metadata": {},
   "outputs": [
    {
     "data": {
      "text/plain": [
       "Survived    144\n",
       "Sex         144\n",
       "Pclass      144\n",
       "dtype: int64"
      ]
     },
     "execution_count": 27,
     "metadata": {},
     "output_type": "execute_result"
    }
   ],
   "source": [
    "# Total Female class 3\n",
    "total_FClass3 = dfF3.count()\n",
    "total_FClass3"
   ]
  },
  {
   "cell_type": "code",
   "execution_count": 28,
   "id": "7a41376a",
   "metadata": {},
   "outputs": [
    {
     "data": {
      "text/plain": [
       "Survived    343\n",
       "Sex         343\n",
       "Pclass      343\n",
       "dtype: int64"
      ]
     },
     "execution_count": 28,
     "metadata": {},
     "output_type": "execute_result"
    }
   ],
   "source": [
    "# Total Male class 3\n",
    "total_MClass3 = dfM3.count()\n",
    "total_MClass3"
   ]
  },
  {
   "cell_type": "code",
   "execution_count": 29,
   "id": "82c9a597",
   "metadata": {},
   "outputs": [
    {
     "data": {
      "text/plain": [
       "Survived    72\n",
       "Sex         72\n",
       "Pclass      72\n",
       "dtype: int64"
      ]
     },
     "execution_count": 29,
     "metadata": {},
     "output_type": "execute_result"
    }
   ],
   "source": [
    "# Count Survived Female class 3\n",
    "dfF3_survived = dfF3_survived.count()\n",
    "dfF3_survived"
   ]
  },
  {
   "cell_type": "code",
   "execution_count": 30,
   "id": "d9189e39",
   "metadata": {},
   "outputs": [
    {
     "data": {
      "text/plain": [
       "Survived    47\n",
       "Sex         47\n",
       "Pclass      47\n",
       "dtype: int64"
      ]
     },
     "execution_count": 30,
     "metadata": {},
     "output_type": "execute_result"
    }
   ],
   "source": [
    "# Count Survived Male class 3\n",
    "dfM3_survived = dfM3_survived.count()\n",
    "dfM3_survived"
   ]
  },
  {
   "cell_type": "code",
   "execution_count": 31,
   "id": "6a11711a",
   "metadata": {},
   "outputs": [
    {
     "data": {
      "text/plain": [
       "Survived    72\n",
       "Sex         72\n",
       "Pclass      72\n",
       "dtype: int64"
      ]
     },
     "execution_count": 31,
     "metadata": {},
     "output_type": "execute_result"
    }
   ],
   "source": [
    "# Count Lost Female class 3\n",
    "dfF3_sink = dfF3_sink.count()\n",
    "dfF3_sink"
   ]
  },
  {
   "cell_type": "code",
   "execution_count": 32,
   "id": "f683b1ba",
   "metadata": {},
   "outputs": [
    {
     "data": {
      "text/plain": [
       "Survived    296\n",
       "Sex         296\n",
       "Pclass      296\n",
       "dtype: int64"
      ]
     },
     "execution_count": 32,
     "metadata": {},
     "output_type": "execute_result"
    }
   ],
   "source": [
    "# Count Lost Male class 3\n",
    "dfM3_sink = dfM3_sink.count()\n",
    "dfM3_sink"
   ]
  },
  {
   "cell_type": "code",
   "execution_count": 33,
   "id": "fdece3ab",
   "metadata": {},
   "outputs": [
    {
     "data": {
      "text/plain": [
       "Survived    50.0\n",
       "Sex         50.0\n",
       "Pclass      50.0\n",
       "dtype: float64"
      ]
     },
     "execution_count": 33,
     "metadata": {},
     "output_type": "execute_result"
    }
   ],
   "source": [
    "# Probability Female Survived Class 3\n",
    "probab_survived_FClass3 = round((dfF3_survived / total_FClass3) * 100, 2)\n",
    "probab_survived_FClass3"
   ]
  },
  {
   "cell_type": "code",
   "execution_count": 34,
   "id": "f9f7a2ff",
   "metadata": {},
   "outputs": [
    {
     "data": {
      "text/plain": [
       "Survived    50.0\n",
       "Sex         50.0\n",
       "Pclass      50.0\n",
       "dtype: float64"
      ]
     },
     "execution_count": 34,
     "metadata": {},
     "output_type": "execute_result"
    }
   ],
   "source": [
    "# Probability Female Lost Class 3\n",
    "probab_lost_FClass3 = 100 - probab_survived_FClass3\n",
    "probab_lost_FClass3"
   ]
  },
  {
   "cell_type": "code",
   "execution_count": 35,
   "id": "38153ba8",
   "metadata": {},
   "outputs": [
    {
     "data": {
      "text/plain": [
       "Survived    13.7\n",
       "Sex         13.7\n",
       "Pclass      13.7\n",
       "dtype: float64"
      ]
     },
     "execution_count": 35,
     "metadata": {},
     "output_type": "execute_result"
    }
   ],
   "source": [
    "# Probability Male Survived Class 3\n",
    "probab_survived_MClass3 = round((dfM3_survived / total_MClass3) * 100, 2)\n",
    "probab_survived_MClass3"
   ]
  },
  {
   "cell_type": "code",
   "execution_count": 36,
   "id": "c24ec05a",
   "metadata": {},
   "outputs": [
    {
     "data": {
      "text/plain": [
       "Survived    86.3\n",
       "Sex         86.3\n",
       "Pclass      86.3\n",
       "dtype: float64"
      ]
     },
     "execution_count": 36,
     "metadata": {},
     "output_type": "execute_result"
    }
   ],
   "source": [
    "# Probability Male Lost Class 3\n",
    "probab_lost_MClass3 = 100 - probab_survived_MClass3\n",
    "probab_lost_MClass3"
   ]
  },
  {
   "cell_type": "markdown",
   "id": "58512222",
   "metadata": {},
   "source": [
    "### Analysis & Interpretetion\n",
    "#### Results of calculation above show there is evindents that:\n",
    "* Conditional probability that a person is Female survives in 3rd passenger-class is 50.00% and Male 13.70%\n",
    "* Conditional probability that a person is Female get lost in 3rd passenger-class is 50.00% and Male 86.30%"
   ]
  },
  {
   "cell_type": "markdown",
   "id": "b9e2925c",
   "metadata": {},
   "source": [
    "### Vizualization"
   ]
  },
  {
   "cell_type": "code",
   "execution_count": 6,
   "id": "795b1c08",
   "metadata": {},
   "outputs": [],
   "source": [
    "Survival = tmain[[\"Survived\", \"Pclass\", \"Sex\"]].copy()"
   ]
  },
  {
   "cell_type": "code",
   "execution_count": 17,
   "id": "fd28d703",
   "metadata": {},
   "outputs": [
    {
     "data": {
      "text/plain": [
       "<seaborn.axisgrid.FacetGrid at 0x1d2ce1fcc40>"
      ]
     },
     "execution_count": 17,
     "metadata": {},
     "output_type": "execute_result"
    },
    {
     "data": {
      "image/png": "[encoded data removed]",
      "text/plain": [
       "<Figure size 598x500 with 1 Axes>"
      ]
     },
     "metadata": {},
     "output_type": "display_data"
    }
   ],
   "source": [
    "sns.catplot(\n",
    "    data = Survival, x=\"Pclass\", y=\"Survived\", hue=\"Sex\",\n",
    "    kind=\"bar\"\n",
    ")"
   ]
  },
  {
   "cell_type": "markdown",
   "id": "23adba9b",
   "metadata": {},
   "source": [
    "### Summary & Conclusion\n",
    "Based on the statistical analysis and observation reserch in order to calculate the conditional probability that a person survives given their sex and passenger-class:\n",
    "There is evidents that conditional probability survival rate for 1st class:\n",
    "* If person is Female survival rate is 96.81% and Male 36.89%\n",
    "* If person is Female deceased rate is 3.19% and Male 63.11%¶\n",
    "\n",
    "There is evidents thatconditional probability survival rate for 2nd class:\n",
    "* If person is Female survival rate is 92.11% and Male 15.74%\n",
    "* If person is Female deceased rate is 7.89% and Male 84.26%\n",
    "\n",
    "There is evidents thatconditional probability survival rate for 3rd class:\n",
    "* If person is Female survival rate is 50.00% and Male 13.70%\n",
    "* If person is Female deceased rate is 50.00% and Male 86.30%\n",
    "\n",
    "\n",
    "Therefore we concludes that there is significant evindence that:\n",
    "* Female passengers of the 1st class survival rate is significantly higher compare to Female passengers in the 2nd and 3rd class.\n",
    "* Male passengers of the 1st class survival rate is significantly higher compare to Male passengers in the 2nd and 3rd class."
   ]
  },
  {
   "cell_type": "markdown",
   "id": "3448e4a2",
   "metadata": {},
   "source": [
    "### End question 6"
   ]
  },
  {
   "cell_type": "markdown",
   "id": "d037d5c8",
   "metadata": {},
   "source": [
    "### End"
   ]
  }
 ],
 "metadata": {
  "kernelspec": {
   "display_name": "Python 3 (ipykernel)",
   "language": "python",
   "name": "python3"
  },
  "language_info": {
   "codemirror_mode": {
    "name": "ipython",
    "version": 3
   },
   "file_extension": ".py",
   "mimetype": "text/x-python",
   "name": "python",
   "nbconvert_exporter": "python",
   "pygments_lexer": "ipython3",
   "version": "3.11.4"
  }
 },
 "nbformat": 4,
 "nbformat_minor": 5
}
